{
  "nbformat": 4,
  "nbformat_minor": 0,
  "metadata": {
    "colab": {
      "name": "Beg_Hypo_NN.ipynb",
      "provenance": []
    },
    "kernelspec": {
      "display_name": "Python 3",
      "name": "python3"
    },
    "language_info": {
      "name": "python"
    }
  },
  "cells": [
    {
      "cell_type": "code",
      "metadata": {
        "id": "IncwIklMJQro"
      },
      "source": [
        "import torch\n",
        "import numpy as np \n",
        "import pandas as pd\n",
        "from torch.utils.data import DataLoader\n",
        "from torch.utils.data import TensorDataset\n",
        "from torch.utils import data"
      ],
      "execution_count": 1,
      "outputs": []
    },
    {
      "cell_type": "code",
      "metadata": {
        "colab": {
          "base_uri": "https://localhost:8080/",
          "height": 278
        },
        "id": "0YvEqC-YJbEc",
        "outputId": "c041f442-3b09-4fb7-f6ed-ecac3480aa06"
      },
      "source": [
        "df = pd.read_csv('https://raw.githubusercontent.com/PhantomBlade009/music_files/main/music_train.csv')\n",
        "df.head()"
      ],
      "execution_count": 22,
      "outputs": [
        {
          "output_type": "execute_result",
          "data": {
            "text/html": [
              "<div>\n",
              "<style scoped>\n",
              "    .dataframe tbody tr th:only-of-type {\n",
              "        vertical-align: middle;\n",
              "    }\n",
              "\n",
              "    .dataframe tbody tr th {\n",
              "        vertical-align: top;\n",
              "    }\n",
              "\n",
              "    .dataframe thead th {\n",
              "        text-align: right;\n",
              "    }\n",
              "</style>\n",
              "<table border=\"1\" class=\"dataframe\">\n",
              "  <thead>\n",
              "    <tr style=\"text-align: right;\">\n",
              "      <th></th>\n",
              "      <th>id</th>\n",
              "      <th>release_date</th>\n",
              "      <th>dating</th>\n",
              "      <th>violence</th>\n",
              "      <th>world/life</th>\n",
              "      <th>night/time</th>\n",
              "      <th>shake the audience</th>\n",
              "      <th>family/gospel</th>\n",
              "      <th>romantic</th>\n",
              "      <th>communication</th>\n",
              "      <th>obscene</th>\n",
              "      <th>music</th>\n",
              "      <th>movement/places</th>\n",
              "      <th>light/visual perceptions</th>\n",
              "      <th>family/spiritual</th>\n",
              "      <th>like/girls</th>\n",
              "      <th>sadness</th>\n",
              "      <th>feelings</th>\n",
              "      <th>danceability</th>\n",
              "      <th>loudness</th>\n",
              "      <th>acousticness</th>\n",
              "      <th>instrumentalness</th>\n",
              "      <th>valence</th>\n",
              "      <th>energy</th>\n",
              "      <th>age</th>\n",
              "      <th>genre</th>\n",
              "      <th>topic</th>\n",
              "    </tr>\n",
              "  </thead>\n",
              "  <tbody>\n",
              "    <tr>\n",
              "      <th>0</th>\n",
              "      <td>0</td>\n",
              "      <td>2014.0</td>\n",
              "      <td>0.001049</td>\n",
              "      <td>0.000254</td>\n",
              "      <td>0.078057</td>\n",
              "      <td>0.282523</td>\n",
              "      <td>0.000000</td>\n",
              "      <td>0.000654</td>\n",
              "      <td>1.109899</td>\n",
              "      <td>3.484935</td>\n",
              "      <td>0.360515</td>\n",
              "      <td>0.016644</td>\n",
              "      <td>0.000000</td>\n",
              "      <td>0.001343</td>\n",
              "      <td>0.000102</td>\n",
              "      <td>0.000814</td>\n",
              "      <td>0.022435</td>\n",
              "      <td>0.001021</td>\n",
              "      <td>0.673433</td>\n",
              "      <td>0.753102</td>\n",
              "      <td>0.002560</td>\n",
              "      <td>0.001046</td>\n",
              "      <td>0.040567</td>\n",
              "      <td>48.364265</td>\n",
              "      <td>0.085714</td>\n",
              "      <td>4</td>\n",
              "      <td>2.0</td>\n",
              "    </tr>\n",
              "    <tr>\n",
              "      <th>1</th>\n",
              "      <td>1</td>\n",
              "      <td>1962.0</td>\n",
              "      <td>0.059132</td>\n",
              "      <td>NaN</td>\n",
              "      <td>NaN</td>\n",
              "      <td>0.001836</td>\n",
              "      <td>0.000737</td>\n",
              "      <td>0.000000</td>\n",
              "      <td>0.758840</td>\n",
              "      <td>0.000000</td>\n",
              "      <td>0.018112</td>\n",
              "      <td>0.658993</td>\n",
              "      <td>0.001137</td>\n",
              "      <td>0.000499</td>\n",
              "      <td>0.032456</td>\n",
              "      <td>0.002707</td>\n",
              "      <td>0.242728</td>\n",
              "      <td>0.001697</td>\n",
              "      <td>0.690740</td>\n",
              "      <td>0.678925</td>\n",
              "      <td>0.785480</td>\n",
              "      <td>0.001009</td>\n",
              "      <td>0.743203</td>\n",
              "      <td>28.200609</td>\n",
              "      <td>0.828571</td>\n",
              "      <td>1</td>\n",
              "      <td>7.0</td>\n",
              "    </tr>\n",
              "    <tr>\n",
              "      <th>2</th>\n",
              "      <td>2</td>\n",
              "      <td>1969.0</td>\n",
              "      <td>0.027451</td>\n",
              "      <td>0.085989</td>\n",
              "      <td>0.039760</td>\n",
              "      <td>0.001288</td>\n",
              "      <td>0.001424</td>\n",
              "      <td>0.000857</td>\n",
              "      <td>0.545408</td>\n",
              "      <td>0.016914</td>\n",
              "      <td>0.015750</td>\n",
              "      <td>0.277632</td>\n",
              "      <td>0.003961</td>\n",
              "      <td>0.257626</td>\n",
              "      <td>0.090351</td>\n",
              "      <td>0.000284</td>\n",
              "      <td>0.360503</td>\n",
              "      <td>0.000000</td>\n",
              "      <td>0.186294</td>\n",
              "      <td>0.404628</td>\n",
              "      <td>0.890527</td>\n",
              "      <td>0.060886</td>\n",
              "      <td>0.093003</td>\n",
              "      <td>13.145639</td>\n",
              "      <td>0.728571</td>\n",
              "      <td>4</td>\n",
              "      <td>NaN</td>\n",
              "    </tr>\n",
              "    <tr>\n",
              "      <th>3</th>\n",
              "      <td>3</td>\n",
              "      <td>2004.0</td>\n",
              "      <td>0.050993</td>\n",
              "      <td>NaN</td>\n",
              "      <td>0.000000</td>\n",
              "      <td>0.000477</td>\n",
              "      <td>0.008157</td>\n",
              "      <td>0.002800</td>\n",
              "      <td>0.000000</td>\n",
              "      <td>0.003703</td>\n",
              "      <td>2.603917</td>\n",
              "      <td>0.005438</td>\n",
              "      <td>0.000000</td>\n",
              "      <td>0.001282</td>\n",
              "      <td>0.057493</td>\n",
              "      <td>0.001102</td>\n",
              "      <td>0.307565</td>\n",
              "      <td>0.067061</td>\n",
              "      <td>0.499643</td>\n",
              "      <td>0.685085</td>\n",
              "      <td>0.640129</td>\n",
              "      <td>0.163850</td>\n",
              "      <td>0.648084</td>\n",
              "      <td>62.663152</td>\n",
              "      <td>0.228571</td>\n",
              "      <td>0</td>\n",
              "      <td>5.0</td>\n",
              "    </tr>\n",
              "    <tr>\n",
              "      <th>4</th>\n",
              "      <td>4</td>\n",
              "      <td>1992.0</td>\n",
              "      <td>0.000551</td>\n",
              "      <td>0.028702</td>\n",
              "      <td>0.000000</td>\n",
              "      <td>0.069748</td>\n",
              "      <td>0.008735</td>\n",
              "      <td>0.000625</td>\n",
              "      <td>0.014364</td>\n",
              "      <td>0.253022</td>\n",
              "      <td>0.007968</td>\n",
              "      <td>3.980988</td>\n",
              "      <td>0.001139</td>\n",
              "      <td>0.143952</td>\n",
              "      <td>0.001518</td>\n",
              "      <td>0.000174</td>\n",
              "      <td>0.047896</td>\n",
              "      <td>0.000000</td>\n",
              "      <td>0.407141</td>\n",
              "      <td>0.616982</td>\n",
              "      <td>0.030576</td>\n",
              "      <td>NaN</td>\n",
              "      <td>NaN</td>\n",
              "      <td>48.641741</td>\n",
              "      <td>0.400000</td>\n",
              "      <td>1</td>\n",
              "      <td>1.0</td>\n",
              "    </tr>\n",
              "  </tbody>\n",
              "</table>\n",
              "</div>"
            ],
            "text/plain": [
              "   id  release_date    dating  violence  ...     energy       age  genre  topic\n",
              "0   0        2014.0  0.001049  0.000254  ...  48.364265  0.085714      4    2.0\n",
              "1   1        1962.0  0.059132       NaN  ...  28.200609  0.828571      1    7.0\n",
              "2   2        1969.0  0.027451  0.085989  ...  13.145639  0.728571      4    NaN\n",
              "3   3        2004.0  0.050993       NaN  ...  62.663152  0.228571      0    5.0\n",
              "4   4        1992.0  0.000551  0.028702  ...  48.641741  0.400000      1    1.0\n",
              "\n",
              "[5 rows x 27 columns]"
            ]
          },
          "metadata": {
            "tags": []
          },
          "execution_count": 22
        }
      ]
    },
    {
      "cell_type": "code",
      "metadata": {
        "colab": {
          "base_uri": "https://localhost:8080/",
          "height": 278
        },
        "id": "AH6vpmNipj4T",
        "outputId": "86bbb96b-4e6c-419a-8984-aa0f84173867"
      },
      "source": [
        "df.drop(columns= 'id', inplace = True)\n",
        "df.head()"
      ],
      "execution_count": 23,
      "outputs": [
        {
          "output_type": "execute_result",
          "data": {
            "text/html": [
              "<div>\n",
              "<style scoped>\n",
              "    .dataframe tbody tr th:only-of-type {\n",
              "        vertical-align: middle;\n",
              "    }\n",
              "\n",
              "    .dataframe tbody tr th {\n",
              "        vertical-align: top;\n",
              "    }\n",
              "\n",
              "    .dataframe thead th {\n",
              "        text-align: right;\n",
              "    }\n",
              "</style>\n",
              "<table border=\"1\" class=\"dataframe\">\n",
              "  <thead>\n",
              "    <tr style=\"text-align: right;\">\n",
              "      <th></th>\n",
              "      <th>release_date</th>\n",
              "      <th>dating</th>\n",
              "      <th>violence</th>\n",
              "      <th>world/life</th>\n",
              "      <th>night/time</th>\n",
              "      <th>shake the audience</th>\n",
              "      <th>family/gospel</th>\n",
              "      <th>romantic</th>\n",
              "      <th>communication</th>\n",
              "      <th>obscene</th>\n",
              "      <th>music</th>\n",
              "      <th>movement/places</th>\n",
              "      <th>light/visual perceptions</th>\n",
              "      <th>family/spiritual</th>\n",
              "      <th>like/girls</th>\n",
              "      <th>sadness</th>\n",
              "      <th>feelings</th>\n",
              "      <th>danceability</th>\n",
              "      <th>loudness</th>\n",
              "      <th>acousticness</th>\n",
              "      <th>instrumentalness</th>\n",
              "      <th>valence</th>\n",
              "      <th>energy</th>\n",
              "      <th>age</th>\n",
              "      <th>genre</th>\n",
              "      <th>topic</th>\n",
              "    </tr>\n",
              "  </thead>\n",
              "  <tbody>\n",
              "    <tr>\n",
              "      <th>0</th>\n",
              "      <td>2014.0</td>\n",
              "      <td>0.001049</td>\n",
              "      <td>0.000254</td>\n",
              "      <td>0.078057</td>\n",
              "      <td>0.282523</td>\n",
              "      <td>0.000000</td>\n",
              "      <td>0.000654</td>\n",
              "      <td>1.109899</td>\n",
              "      <td>3.484935</td>\n",
              "      <td>0.360515</td>\n",
              "      <td>0.016644</td>\n",
              "      <td>0.000000</td>\n",
              "      <td>0.001343</td>\n",
              "      <td>0.000102</td>\n",
              "      <td>0.000814</td>\n",
              "      <td>0.022435</td>\n",
              "      <td>0.001021</td>\n",
              "      <td>0.673433</td>\n",
              "      <td>0.753102</td>\n",
              "      <td>0.002560</td>\n",
              "      <td>0.001046</td>\n",
              "      <td>0.040567</td>\n",
              "      <td>48.364265</td>\n",
              "      <td>0.085714</td>\n",
              "      <td>4</td>\n",
              "      <td>2.0</td>\n",
              "    </tr>\n",
              "    <tr>\n",
              "      <th>1</th>\n",
              "      <td>1962.0</td>\n",
              "      <td>0.059132</td>\n",
              "      <td>NaN</td>\n",
              "      <td>NaN</td>\n",
              "      <td>0.001836</td>\n",
              "      <td>0.000737</td>\n",
              "      <td>0.000000</td>\n",
              "      <td>0.758840</td>\n",
              "      <td>0.000000</td>\n",
              "      <td>0.018112</td>\n",
              "      <td>0.658993</td>\n",
              "      <td>0.001137</td>\n",
              "      <td>0.000499</td>\n",
              "      <td>0.032456</td>\n",
              "      <td>0.002707</td>\n",
              "      <td>0.242728</td>\n",
              "      <td>0.001697</td>\n",
              "      <td>0.690740</td>\n",
              "      <td>0.678925</td>\n",
              "      <td>0.785480</td>\n",
              "      <td>0.001009</td>\n",
              "      <td>0.743203</td>\n",
              "      <td>28.200609</td>\n",
              "      <td>0.828571</td>\n",
              "      <td>1</td>\n",
              "      <td>7.0</td>\n",
              "    </tr>\n",
              "    <tr>\n",
              "      <th>2</th>\n",
              "      <td>1969.0</td>\n",
              "      <td>0.027451</td>\n",
              "      <td>0.085989</td>\n",
              "      <td>0.039760</td>\n",
              "      <td>0.001288</td>\n",
              "      <td>0.001424</td>\n",
              "      <td>0.000857</td>\n",
              "      <td>0.545408</td>\n",
              "      <td>0.016914</td>\n",
              "      <td>0.015750</td>\n",
              "      <td>0.277632</td>\n",
              "      <td>0.003961</td>\n",
              "      <td>0.257626</td>\n",
              "      <td>0.090351</td>\n",
              "      <td>0.000284</td>\n",
              "      <td>0.360503</td>\n",
              "      <td>0.000000</td>\n",
              "      <td>0.186294</td>\n",
              "      <td>0.404628</td>\n",
              "      <td>0.890527</td>\n",
              "      <td>0.060886</td>\n",
              "      <td>0.093003</td>\n",
              "      <td>13.145639</td>\n",
              "      <td>0.728571</td>\n",
              "      <td>4</td>\n",
              "      <td>NaN</td>\n",
              "    </tr>\n",
              "    <tr>\n",
              "      <th>3</th>\n",
              "      <td>2004.0</td>\n",
              "      <td>0.050993</td>\n",
              "      <td>NaN</td>\n",
              "      <td>0.000000</td>\n",
              "      <td>0.000477</td>\n",
              "      <td>0.008157</td>\n",
              "      <td>0.002800</td>\n",
              "      <td>0.000000</td>\n",
              "      <td>0.003703</td>\n",
              "      <td>2.603917</td>\n",
              "      <td>0.005438</td>\n",
              "      <td>0.000000</td>\n",
              "      <td>0.001282</td>\n",
              "      <td>0.057493</td>\n",
              "      <td>0.001102</td>\n",
              "      <td>0.307565</td>\n",
              "      <td>0.067061</td>\n",
              "      <td>0.499643</td>\n",
              "      <td>0.685085</td>\n",
              "      <td>0.640129</td>\n",
              "      <td>0.163850</td>\n",
              "      <td>0.648084</td>\n",
              "      <td>62.663152</td>\n",
              "      <td>0.228571</td>\n",
              "      <td>0</td>\n",
              "      <td>5.0</td>\n",
              "    </tr>\n",
              "    <tr>\n",
              "      <th>4</th>\n",
              "      <td>1992.0</td>\n",
              "      <td>0.000551</td>\n",
              "      <td>0.028702</td>\n",
              "      <td>0.000000</td>\n",
              "      <td>0.069748</td>\n",
              "      <td>0.008735</td>\n",
              "      <td>0.000625</td>\n",
              "      <td>0.014364</td>\n",
              "      <td>0.253022</td>\n",
              "      <td>0.007968</td>\n",
              "      <td>3.980988</td>\n",
              "      <td>0.001139</td>\n",
              "      <td>0.143952</td>\n",
              "      <td>0.001518</td>\n",
              "      <td>0.000174</td>\n",
              "      <td>0.047896</td>\n",
              "      <td>0.000000</td>\n",
              "      <td>0.407141</td>\n",
              "      <td>0.616982</td>\n",
              "      <td>0.030576</td>\n",
              "      <td>NaN</td>\n",
              "      <td>NaN</td>\n",
              "      <td>48.641741</td>\n",
              "      <td>0.400000</td>\n",
              "      <td>1</td>\n",
              "      <td>1.0</td>\n",
              "    </tr>\n",
              "  </tbody>\n",
              "</table>\n",
              "</div>"
            ],
            "text/plain": [
              "   release_date    dating  violence  ...       age  genre  topic\n",
              "0        2014.0  0.001049  0.000254  ...  0.085714      4    2.0\n",
              "1        1962.0  0.059132       NaN  ...  0.828571      1    7.0\n",
              "2        1969.0  0.027451  0.085989  ...  0.728571      4    NaN\n",
              "3        2004.0  0.050993       NaN  ...  0.228571      0    5.0\n",
              "4        1992.0  0.000551  0.028702  ...  0.400000      1    1.0\n",
              "\n",
              "[5 rows x 26 columns]"
            ]
          },
          "metadata": {
            "tags": []
          },
          "execution_count": 23
        }
      ]
    },
    {
      "cell_type": "code",
      "metadata": {
        "colab": {
          "base_uri": "https://localhost:8080/"
        },
        "id": "n3SQ5XA6rWgz",
        "outputId": "aeecc452-c6e6-4f8e-be2b-a39ce03b9be5"
      },
      "source": [
        "df.iloc[:, 0:df.shape[1]-1] = df.iloc[:, 0:df.shape[1]-1].fillna(df.iloc[:,0:df.shape[1]-1].mean())\n",
        "df['topic'] = df['topic'].fillna(df['topic'].mode()[0])\n",
        "df.isnull().sum()"
      ],
      "execution_count": 27,
      "outputs": [
        {
          "output_type": "execute_result",
          "data": {
            "text/plain": [
              "release_date                0\n",
              "dating                      0\n",
              "violence                    0\n",
              "world/life                  0\n",
              "night/time                  0\n",
              "shake the audience          0\n",
              "family/gospel               0\n",
              "romantic                    0\n",
              "communication               0\n",
              "obscene                     0\n",
              "music                       0\n",
              "movement/places             0\n",
              "light/visual perceptions    0\n",
              "family/spiritual            0\n",
              "like/girls                  0\n",
              "sadness                     0\n",
              "feelings                    0\n",
              "danceability                0\n",
              "loudness                    0\n",
              "acousticness                0\n",
              "instrumentalness            0\n",
              "valence                     0\n",
              "energy                      0\n",
              "age                         0\n",
              "genre                       0\n",
              "topic                       0\n",
              "dtype: int64"
            ]
          },
          "metadata": {
            "tags": []
          },
          "execution_count": 27
        }
      ]
    },
    {
      "cell_type": "code",
      "metadata": {
        "id": "ZpBys2rEbwWz",
        "colab": {
          "base_uri": "https://localhost:8080/"
        },
        "outputId": "d0ec3e50-2be1-46e2-b287-6f273562e869"
      },
      "source": [
        "from sklearn.preprocessing import StandardScaler, OneHotEncoder\n",
        "scaler = StandardScaler()\n",
        "ohe = OneHotEncoder(sparse=False)\n",
        "\n",
        "features_np_no_cat = df.drop(columns = ['genre', 'topic']).values\n",
        "features_np_cat = df['topic'].values.reshape(-1,1)\n",
        "labels_np = df['genre'].values.reshape(-1,1)\n",
        "\n",
        "features_np_cat = ohe.fit_transform(features_np_cat)[:,1:8]\n",
        "print(features_np_cat.shape)\n",
        "\n",
        "features_np_std = scaler.fit_transform(features_np_no_cat)\n",
        "features_np_std = np.column_stack((features_np_std, features_np_cat))\n",
        "labels_np_std = (labels_np)"
      ],
      "execution_count": 49,
      "outputs": [
        {
          "output_type": "stream",
          "text": [
            "(17743, 7)\n"
          ],
          "name": "stdout"
        }
      ]
    },
    {
      "cell_type": "code",
      "metadata": {
        "colab": {
          "base_uri": "https://localhost:8080/"
        },
        "id": "h1Y8No9cZvwP",
        "outputId": "7d8244f7-5d51-4af2-9586-91d4bcfdaced"
      },
      "source": [
        "from sklearn.model_selection import train_test_split\n",
        "features_std_train, features_std_test, labels_std_train, labels_std_test = train_test_split(features_np_std, labels_np_std)\n",
        "print(features_std_train.shape, labels_std_train.shape, features_std_test.shape, labels_std_test.shape)"
      ],
      "execution_count": 50,
      "outputs": [
        {
          "output_type": "stream",
          "text": [
            "(13307, 30) (13307, 1) (4436, 30) (4436, 1)\n"
          ],
          "name": "stdout"
        }
      ]
    },
    {
      "cell_type": "code",
      "metadata": {
        "id": "JrAJBc08EMkn",
        "colab": {
          "base_uri": "https://localhost:8080/"
        },
        "outputId": "75350cc5-9b09-4933-b432-3e233d872722"
      },
      "source": [
        "features_train = torch.Tensor(features_std_train)\n",
        "features_test = torch.Tensor(features_std_test)\n",
        "\n",
        "# from sklearn.preprocessing import OneHotEncoder \n",
        "# ohe = OneHotEncoder(sparse = False) \n",
        "# encoded_labels = ohe.fit_transform(df['genre'].values.reshape(-1,1))\n",
        "\n",
        "labels_train = torch.Tensor(labels_std_train)\n",
        "labels_test = torch.Tensor(labels_std_test)\n",
        "\n",
        "train_dataset = (features_train, labels_train)\n",
        "\n",
        "print(features_train.shape, labels_train.shape, features_test.shape, labels_test.shape)"
      ],
      "execution_count": 51,
      "outputs": [
        {
          "output_type": "stream",
          "text": [
            "torch.Size([13307, 30]) torch.Size([13307, 1]) torch.Size([4436, 30]) torch.Size([4436, 1])\n"
          ],
          "name": "stdout"
        }
      ]
    },
    {
      "cell_type": "code",
      "metadata": {
        "id": "DrM77VacAiEx"
      },
      "source": [
        "def batcher(dataset, batch_size):\n",
        "  dataset = TensorDataset(*dataset)\n",
        "  data_loader = DataLoader(dataset = dataset, batch_size = batch_size, shuffle = True)\n",
        "  return data_loader"
      ],
      "execution_count": 52,
      "outputs": []
    },
    {
      "cell_type": "code",
      "metadata": {
        "id": "oj1hiaJkEE-r"
      },
      "source": [
        "from torch import nn \n",
        "num_features = features_train.shape[1]\n",
        "num_labels = 7\n",
        "net = nn.Sequential( nn.Linear(num_features, 25),\n",
        "                     nn.Sigmoid(),\n",
        "                     nn.Linear(25, 25),\n",
        "                     nn.Sigmoid(),\n",
        "                     nn.Linear(25, num_labels),\n",
        "                     nn.Sigmoid() ) "
      ],
      "execution_count": 72,
      "outputs": []
    },
    {
      "cell_type": "code",
      "metadata": {
        "id": "vMhZm4IyKhap"
      },
      "source": [
        "loss = nn.CrossEntropyLoss( )"
      ],
      "execution_count": 54,
      "outputs": []
    },
    {
      "cell_type": "code",
      "metadata": {
        "id": "Qgc3eA2MKr93"
      },
      "source": [
        "optimizer = torch.optim.Adam(net.parameters(), amsgrad=True )"
      ],
      "execution_count": 55,
      "outputs": []
    },
    {
      "cell_type": "code",
      "metadata": {
        "colab": {
          "base_uri": "https://localhost:8080/"
        },
        "id": "rAOwZVS_K8KL",
        "outputId": "07802dcf-6ceb-431b-a1bb-4b3175b088ae"
      },
      "source": [
        "net[0].weight.data.normal_(0, 0.01)\n",
        "net[0].bias.data.fill_(0)"
      ],
      "execution_count": 56,
      "outputs": [
        {
          "output_type": "execute_result",
          "data": {
            "text/plain": [
              "tensor([0., 0., 0., 0., 0., 0., 0., 0., 0., 0., 0., 0., 0., 0., 0., 0., 0., 0., 0., 0., 0., 0., 0., 0.,\n",
              "        0.])"
            ]
          },
          "metadata": {
            "tags": []
          },
          "execution_count": 56
        }
      ]
    },
    {
      "cell_type": "code",
      "metadata": {
        "colab": {
          "base_uri": "https://localhost:8080/"
        },
        "id": "Z_Wq9ONTLRHA",
        "outputId": "12312ea8-e295-4926-e85d-1cfc32fb710a"
      },
      "source": [
        "batch_size = 256\n",
        "batch = batcher(train_dataset, batch_size)\n",
        "num_epochs = 500\n",
        "\n",
        "for epoch in range(num_epochs):\n",
        "  for X,y in batch:\n",
        "    optimizer.zero_grad()\n",
        "    l = loss(net(X), y.squeeze(1).long())\n",
        "    l.backward()\n",
        "    optimizer.step()\n",
        "\n",
        "print(loss(net(features_train), labels_train.squeeze(1).long()))\n",
        "print(loss(net(features_test), labels_test.squeeze(1).long()))"
      ],
      "execution_count": 60,
      "outputs": [
        {
          "output_type": "stream",
          "text": [
            "tensor(1.6223, grad_fn=<NllLossBackward>)\n",
            "tensor(1.6920, grad_fn=<NllLossBackward>)\n"
          ],
          "name": "stdout"
        }
      ]
    },
    {
      "cell_type": "code",
      "metadata": {
        "id": "I8kWthXywfLi"
      },
      "source": [
        "probs_train = net(features_train).detach().numpy()\n",
        "predictions_train = np.zeros((probs_train.shape[0],1))\n",
        "\n",
        "for i in range(probs_train.shape[0]):\n",
        "  index = 0\n",
        "  max_prob = probs_train[i,index] \n",
        "  for j in range(probs_train.shape[1]):\n",
        "    if (probs_train[i,j]>max_prob):\n",
        "      max_prob = probs_train[i,j] \n",
        "      index = j\n",
        "  predictions_train[i] = index\n",
        "\n",
        "\n",
        "probs_test = net(features_test).detach().numpy()\n",
        "predictions_test = np.zeros((probs_test.shape[0],1))\n",
        "\n",
        "for i in range(probs_test.shape[0]):\n",
        "  index = 0\n",
        "  max_prob = probs_test[i,index] \n",
        "  for j in range(probs_test.shape[1]):\n",
        "    if (probs_test[i,j]>max_prob):\n",
        "      max_prob = probs_test[i,j] \n",
        "      index = j\n",
        "  predictions_test[i] = index\n",
        "\n"
      ],
      "execution_count": 61,
      "outputs": []
    },
    {
      "cell_type": "code",
      "metadata": {
        "colab": {
          "base_uri": "https://localhost:8080/"
        },
        "id": "hZqgJcKryjM9",
        "outputId": "4f04a04c-0b97-4636-dd28-33e5855cb91f"
      },
      "source": [
        "from sklearn.metrics import classification_report\n",
        "\n",
        "print(\"Training Report...\")\n",
        "print(classification_report(predictions_train, labels_train))\n",
        "\n",
        "print(\"Testing Report...\")\n",
        "print(classification_report(predictions_test, labels_test))"
      ],
      "execution_count": 62,
      "outputs": [
        {
          "output_type": "stream",
          "text": [
            "Training Report...\n",
            "              precision    recall  f1-score   support\n",
            "\n",
            "         0.0       0.13      0.34      0.19       801\n",
            "         1.0       0.56      0.41      0.47      3512\n",
            "         2.0       0.20      0.48      0.28       196\n",
            "         3.0       0.39      0.41      0.40      1712\n",
            "         4.0       0.48      0.36      0.41      4308\n",
            "         5.0       0.46      0.45      0.45      1208\n",
            "         6.0       0.32      0.40      0.36      1570\n",
            "\n",
            "    accuracy                           0.39     13307\n",
            "   macro avg       0.36      0.41      0.37     13307\n",
            "weighted avg       0.44      0.39      0.41     13307\n",
            "\n",
            "Testing Report...\n",
            "              precision    recall  f1-score   support\n",
            "\n",
            "         0.0       0.12      0.35      0.18       255\n",
            "         1.0       0.51      0.39      0.44      1120\n",
            "         2.0       0.27      0.51      0.36        84\n",
            "         3.0       0.41      0.40      0.40       597\n",
            "         4.0       0.47      0.35      0.40      1438\n",
            "         5.0       0.42      0.44      0.43       390\n",
            "         6.0       0.33      0.37      0.35       552\n",
            "\n",
            "    accuracy                           0.38      4436\n",
            "   macro avg       0.36      0.40      0.37      4436\n",
            "weighted avg       0.42      0.38      0.39      4436\n",
            "\n"
          ],
          "name": "stdout"
        }
      ]
    },
    {
      "cell_type": "markdown",
      "metadata": {
        "id": "-hSgCF_EOiTW"
      },
      "source": [
        "##Implementation With nn.Module style class\n"
      ]
    },
    {
      "cell_type": "code",
      "metadata": {
        "id": "W7F_Q1T3Fcdm"
      },
      "source": [
        "class NeuralNet(nn.Module):\n",
        "    def __init__(self, num_features, hidden_sizes, num_labels):\n",
        "        super(NeuralNet, self).__init__()\n",
        "        \n",
        "        self.num_features = num_features\n",
        "        self.num_labels = num_labels\n",
        "        self.hidden_size_1 = hidden_sizes[0]\n",
        "        self.hidden_size_2 = hidden_sizes[1]\n",
        "\n",
        "        self.sigmoid = nn.Sigmoid()\n",
        "        self.relu = nn.ReLU()\n",
        "        self.tanh = nn.Tanh()\n",
        "        self.softmax = nn.Softmax()\n",
        "\n",
        "        self.l_in = nn.Linear(num_features, self.hidden_size_1) \n",
        "        self.l1 = nn.Linear(self.hidden_size_1, self.hidden_size_2)  \n",
        "        self.l2 = nn.Linear(self.hidden_size_2, num_labels)\n",
        "        \n",
        "    def forward(self, x):\n",
        "        out = self.l_in(x)\n",
        "        out = self.sigmoid(out)\n",
        "        out = self.l1(out)\n",
        "        out = self.sigmoid(out)\n",
        "        out = self.l2(out)\n",
        "        out = self.sigmoid(out)\n",
        "        \n",
        "        return out"
      ],
      "execution_count": 69,
      "outputs": []
    },
    {
      "cell_type": "code",
      "metadata": {
        "id": "MHcGkd_oLURb"
      },
      "source": [
        "net_class = NeuralNet(num_features, (25,25), num_labels)\n",
        "optimizer_class = torch.optim.Adam(net_class.parameters(), amsgrad=True)\n",
        "loss_class = nn.CrossEntropyLoss()"
      ],
      "execution_count": 77,
      "outputs": []
    },
    {
      "cell_type": "code",
      "metadata": {
        "colab": {
          "base_uri": "https://localhost:8080/"
        },
        "id": "2kRlGeN9L2ME",
        "outputId": "101194bd-9195-4e88-8506-abe6fa1d50ef"
      },
      "source": [
        "batch_size = 256\n",
        "batch = batcher(train_dataset, batch_size)\n",
        "num_epochs = 500\n",
        "\n",
        "for epoch in range(num_epochs):\n",
        "  for X,y in batch:\n",
        "    optimizer_class.zero_grad()\n",
        "    l = loss(net_class(X), y.squeeze(1).long())\n",
        "    l.backward()\n",
        "    optimizer_class.step()\n",
        "\n",
        "print(loss(net_class(features_train), labels_train.squeeze(1).long()))\n",
        "print(loss(net_class(features_test), labels_test.squeeze(1).long()))"
      ],
      "execution_count": 78,
      "outputs": [
        {
          "output_type": "stream",
          "text": [
            "tensor(1.6462, grad_fn=<NllLossBackward>)\n",
            "tensor(1.6859, grad_fn=<NllLossBackward>)\n"
          ],
          "name": "stdout"
        }
      ]
    }
  ]
}