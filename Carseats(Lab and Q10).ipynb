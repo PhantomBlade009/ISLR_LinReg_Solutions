{
  "nbformat": 4,
  "nbformat_minor": 0,
  "metadata": {
    "colab": {
      "name": "CarseatsLab.ipynb",
      "provenance": [],
      "authorship_tag": "ABX9TyOWSnZO2ZptekzQYIQL08ZE",
      "include_colab_link": true
    },
    "kernelspec": {
      "name": "python3",
      "display_name": "Python 3"
    }
  },
  "cells": [
    {
      "cell_type": "markdown",
      "metadata": {
        "id": "view-in-github",
        "colab_type": "text"
      },
      "source": [
        "<a href=\"https://colab.research.google.com/github/PhantomBlade009/ISLR_LinReg_Solutions/blob/main/Carseats(Lab%20and%20Q10).ipynb\" target=\"_parent\"><img src=\"https://colab.research.google.com/assets/colab-badge.svg\" alt=\"Open In Colab\"/></a>"
      ]
    },
    {
      "cell_type": "markdown",
      "metadata": {
        "id": "JWcsn40jGr7p"
      },
      "source": [
        "#Lab section here, question 10 solved below"
      ]
    },
    {
      "cell_type": "code",
      "metadata": {
        "id": "eKeLbIylyMoc"
      },
      "source": [
        "import pandas as pd \n",
        "import numpy as np  \n",
        "from scipy import stats"
      ],
      "execution_count": null,
      "outputs": []
    },
    {
      "cell_type": "code",
      "metadata": {
        "id": "vDvgC3OSnV90"
      },
      "source": [
        "df =pd.read_csv('https://raw.githubusercontent.com/mscaudill/IntroStatLearn/master/data/Carseats.csv')"
      ],
      "execution_count": null,
      "outputs": []
    },
    {
      "cell_type": "code",
      "metadata": {
        "colab": {
          "base_uri": "https://localhost:8080/",
          "height": 219
        },
        "id": "CiZ1PICknf9Y",
        "outputId": "92f783b8-bd96-4f22-e857-8c086af38812"
      },
      "source": [
        "df.head()"
      ],
      "execution_count": null,
      "outputs": [
        {
          "output_type": "execute_result",
          "data": {
            "text/html": [
              "<div>\n",
              "<style scoped>\n",
              "    .dataframe tbody tr th:only-of-type {\n",
              "        vertical-align: middle;\n",
              "    }\n",
              "\n",
              "    .dataframe tbody tr th {\n",
              "        vertical-align: top;\n",
              "    }\n",
              "\n",
              "    .dataframe thead th {\n",
              "        text-align: right;\n",
              "    }\n",
              "</style>\n",
              "<table border=\"1\" class=\"dataframe\">\n",
              "  <thead>\n",
              "    <tr style=\"text-align: right;\">\n",
              "      <th></th>\n",
              "      <th>Unnamed: 0</th>\n",
              "      <th>Sales</th>\n",
              "      <th>CompPrice</th>\n",
              "      <th>Income</th>\n",
              "      <th>Advertising</th>\n",
              "      <th>Population</th>\n",
              "      <th>Price</th>\n",
              "      <th>ShelveLoc</th>\n",
              "      <th>Age</th>\n",
              "      <th>Education</th>\n",
              "      <th>Urban</th>\n",
              "      <th>US</th>\n",
              "    </tr>\n",
              "  </thead>\n",
              "  <tbody>\n",
              "    <tr>\n",
              "      <th>0</th>\n",
              "      <td>1</td>\n",
              "      <td>9.50</td>\n",
              "      <td>138</td>\n",
              "      <td>73</td>\n",
              "      <td>11</td>\n",
              "      <td>276</td>\n",
              "      <td>120</td>\n",
              "      <td>Bad</td>\n",
              "      <td>42</td>\n",
              "      <td>17</td>\n",
              "      <td>Yes</td>\n",
              "      <td>Yes</td>\n",
              "    </tr>\n",
              "    <tr>\n",
              "      <th>1</th>\n",
              "      <td>2</td>\n",
              "      <td>11.22</td>\n",
              "      <td>111</td>\n",
              "      <td>48</td>\n",
              "      <td>16</td>\n",
              "      <td>260</td>\n",
              "      <td>83</td>\n",
              "      <td>Good</td>\n",
              "      <td>65</td>\n",
              "      <td>10</td>\n",
              "      <td>Yes</td>\n",
              "      <td>Yes</td>\n",
              "    </tr>\n",
              "    <tr>\n",
              "      <th>2</th>\n",
              "      <td>3</td>\n",
              "      <td>10.06</td>\n",
              "      <td>113</td>\n",
              "      <td>35</td>\n",
              "      <td>10</td>\n",
              "      <td>269</td>\n",
              "      <td>80</td>\n",
              "      <td>Medium</td>\n",
              "      <td>59</td>\n",
              "      <td>12</td>\n",
              "      <td>Yes</td>\n",
              "      <td>Yes</td>\n",
              "    </tr>\n",
              "    <tr>\n",
              "      <th>3</th>\n",
              "      <td>4</td>\n",
              "      <td>7.40</td>\n",
              "      <td>117</td>\n",
              "      <td>100</td>\n",
              "      <td>4</td>\n",
              "      <td>466</td>\n",
              "      <td>97</td>\n",
              "      <td>Medium</td>\n",
              "      <td>55</td>\n",
              "      <td>14</td>\n",
              "      <td>Yes</td>\n",
              "      <td>Yes</td>\n",
              "    </tr>\n",
              "    <tr>\n",
              "      <th>4</th>\n",
              "      <td>5</td>\n",
              "      <td>4.15</td>\n",
              "      <td>141</td>\n",
              "      <td>64</td>\n",
              "      <td>3</td>\n",
              "      <td>340</td>\n",
              "      <td>128</td>\n",
              "      <td>Bad</td>\n",
              "      <td>38</td>\n",
              "      <td>13</td>\n",
              "      <td>Yes</td>\n",
              "      <td>No</td>\n",
              "    </tr>\n",
              "  </tbody>\n",
              "</table>\n",
              "</div>"
            ],
            "text/plain": [
              "   Unnamed: 0  Sales  CompPrice  Income  ...  Age  Education  Urban   US\n",
              "0           1   9.50        138      73  ...   42         17    Yes  Yes\n",
              "1           2  11.22        111      48  ...   65         10    Yes  Yes\n",
              "2           3  10.06        113      35  ...   59         12    Yes  Yes\n",
              "3           4   7.40        117     100  ...   55         14    Yes  Yes\n",
              "4           5   4.15        141      64  ...   38         13    Yes   No\n",
              "\n",
              "[5 rows x 12 columns]"
            ]
          },
          "metadata": {
            "tags": []
          },
          "execution_count": 3
        }
      ]
    },
    {
      "cell_type": "code",
      "metadata": {
        "colab": {
          "base_uri": "https://localhost:8080/",
          "height": 219
        },
        "id": "RUK84tbzni10",
        "outputId": "99b05f8d-984f-41f9-cb25-989453199751"
      },
      "source": [
        "df.drop(columns=df.columns[0], inplace=True)\n",
        "df.head()"
      ],
      "execution_count": null,
      "outputs": [
        {
          "output_type": "execute_result",
          "data": {
            "text/html": [
              "<div>\n",
              "<style scoped>\n",
              "    .dataframe tbody tr th:only-of-type {\n",
              "        vertical-align: middle;\n",
              "    }\n",
              "\n",
              "    .dataframe tbody tr th {\n",
              "        vertical-align: top;\n",
              "    }\n",
              "\n",
              "    .dataframe thead th {\n",
              "        text-align: right;\n",
              "    }\n",
              "</style>\n",
              "<table border=\"1\" class=\"dataframe\">\n",
              "  <thead>\n",
              "    <tr style=\"text-align: right;\">\n",
              "      <th></th>\n",
              "      <th>Sales</th>\n",
              "      <th>CompPrice</th>\n",
              "      <th>Income</th>\n",
              "      <th>Advertising</th>\n",
              "      <th>Population</th>\n",
              "      <th>Price</th>\n",
              "      <th>ShelveLoc</th>\n",
              "      <th>Age</th>\n",
              "      <th>Education</th>\n",
              "      <th>Urban</th>\n",
              "      <th>US</th>\n",
              "    </tr>\n",
              "  </thead>\n",
              "  <tbody>\n",
              "    <tr>\n",
              "      <th>0</th>\n",
              "      <td>9.50</td>\n",
              "      <td>138</td>\n",
              "      <td>73</td>\n",
              "      <td>11</td>\n",
              "      <td>276</td>\n",
              "      <td>120</td>\n",
              "      <td>Bad</td>\n",
              "      <td>42</td>\n",
              "      <td>17</td>\n",
              "      <td>Yes</td>\n",
              "      <td>Yes</td>\n",
              "    </tr>\n",
              "    <tr>\n",
              "      <th>1</th>\n",
              "      <td>11.22</td>\n",
              "      <td>111</td>\n",
              "      <td>48</td>\n",
              "      <td>16</td>\n",
              "      <td>260</td>\n",
              "      <td>83</td>\n",
              "      <td>Good</td>\n",
              "      <td>65</td>\n",
              "      <td>10</td>\n",
              "      <td>Yes</td>\n",
              "      <td>Yes</td>\n",
              "    </tr>\n",
              "    <tr>\n",
              "      <th>2</th>\n",
              "      <td>10.06</td>\n",
              "      <td>113</td>\n",
              "      <td>35</td>\n",
              "      <td>10</td>\n",
              "      <td>269</td>\n",
              "      <td>80</td>\n",
              "      <td>Medium</td>\n",
              "      <td>59</td>\n",
              "      <td>12</td>\n",
              "      <td>Yes</td>\n",
              "      <td>Yes</td>\n",
              "    </tr>\n",
              "    <tr>\n",
              "      <th>3</th>\n",
              "      <td>7.40</td>\n",
              "      <td>117</td>\n",
              "      <td>100</td>\n",
              "      <td>4</td>\n",
              "      <td>466</td>\n",
              "      <td>97</td>\n",
              "      <td>Medium</td>\n",
              "      <td>55</td>\n",
              "      <td>14</td>\n",
              "      <td>Yes</td>\n",
              "      <td>Yes</td>\n",
              "    </tr>\n",
              "    <tr>\n",
              "      <th>4</th>\n",
              "      <td>4.15</td>\n",
              "      <td>141</td>\n",
              "      <td>64</td>\n",
              "      <td>3</td>\n",
              "      <td>340</td>\n",
              "      <td>128</td>\n",
              "      <td>Bad</td>\n",
              "      <td>38</td>\n",
              "      <td>13</td>\n",
              "      <td>Yes</td>\n",
              "      <td>No</td>\n",
              "    </tr>\n",
              "  </tbody>\n",
              "</table>\n",
              "</div>"
            ],
            "text/plain": [
              "   Sales  CompPrice  Income  Advertising  ...  Age  Education Urban   US\n",
              "0   9.50        138      73           11  ...   42         17   Yes  Yes\n",
              "1  11.22        111      48           16  ...   65         10   Yes  Yes\n",
              "2  10.06        113      35           10  ...   59         12   Yes  Yes\n",
              "3   7.40        117     100            4  ...   55         14   Yes  Yes\n",
              "4   4.15        141      64            3  ...   38         13   Yes   No\n",
              "\n",
              "[5 rows x 11 columns]"
            ]
          },
          "metadata": {
            "tags": []
          },
          "execution_count": 4
        }
      ]
    },
    {
      "cell_type": "code",
      "metadata": {
        "colab": {
          "base_uri": "https://localhost:8080/"
        },
        "id": "_ESdQJl0nuEg",
        "outputId": "4375102f-f167-42fa-c618-4868debfb9cc"
      },
      "source": [
        "df.isnull().sum()"
      ],
      "execution_count": null,
      "outputs": [
        {
          "output_type": "execute_result",
          "data": {
            "text/plain": [
              "Sales          0\n",
              "CompPrice      0\n",
              "Income         0\n",
              "Advertising    0\n",
              "Population     0\n",
              "Price          0\n",
              "ShelveLoc      0\n",
              "Age            0\n",
              "Education      0\n",
              "Urban          0\n",
              "US             0\n",
              "dtype: int64"
            ]
          },
          "metadata": {
            "tags": []
          },
          "execution_count": 5
        }
      ]
    },
    {
      "cell_type": "code",
      "metadata": {
        "id": "p0dgkqoDoTyD"
      },
      "source": [
        "from sklearn.preprocessing import OneHotEncoder \n",
        "from sklearn.preprocessing import OrdinalEncoder  \n",
        "ohe = OneHotEncoder(sparse=False)\n",
        "oe = OrdinalEncoder()"
      ],
      "execution_count": null,
      "outputs": []
    },
    {
      "cell_type": "code",
      "metadata": {
        "id": "ILiUbw4oqM6V"
      },
      "source": [
        "ShelveLoc_encoded = ohe.fit_transform(df['ShelveLoc'].values.reshape(-1,1))\n",
        "US_encoded = oe.fit_transform(df['US'].values.reshape(-1,1))\n",
        "Urban_encoded = oe.fit_transform(df['Urban'].values.reshape(-1,1))"
      ],
      "execution_count": null,
      "outputs": []
    },
    {
      "cell_type": "code",
      "metadata": {
        "colab": {
          "base_uri": "https://localhost:8080/"
        },
        "id": "R-NKgYG7n_hF",
        "outputId": "546e2c32-c09b-466d-dd1c-96ad28b69c92"
      },
      "source": [
        "X = df.iloc[:, 1:df.shape[1]].drop(columns=['ShelveLoc', 'US', 'Urban']).values\n",
        "X = np.column_stack((X,ShelveLoc_encoded,US_encoded, Urban_encoded))\n",
        "y = df.iloc[:,0].values.reshape(-1,1)\n",
        "print(X.shape, y.shape)"
      ],
      "execution_count": null,
      "outputs": [
        {
          "output_type": "stream",
          "text": [
            "(400, 12) (400, 1)\n"
          ],
          "name": "stdout"
        }
      ]
    },
    {
      "cell_type": "code",
      "metadata": {
        "id": "0txbdsevpDoS"
      },
      "source": [
        "from sklearn.preprocessing import StandardScaler \n",
        "scaler = StandardScaler() \n",
        "X_norm = scaler.fit_transform(X) "
      ],
      "execution_count": null,
      "outputs": []
    },
    {
      "cell_type": "code",
      "metadata": {
        "id": "jGn8YE3JX0Y9"
      },
      "source": [
        "from sklearn.model_selection import train_test_split\n",
        "X_train, X_test, y_train, y_test = train_test_split(X_norm,y, test_size = 0.3, random_state=4)"
      ],
      "execution_count": null,
      "outputs": []
    },
    {
      "cell_type": "code",
      "metadata": {
        "id": "Ei2izdHgYIHc"
      },
      "source": [
        "from sklearn.linear_model import LinearRegression \n",
        "lr = LinearRegression()"
      ],
      "execution_count": null,
      "outputs": []
    },
    {
      "cell_type": "code",
      "metadata": {
        "id": "9MeQdxUvYS9O"
      },
      "source": [
        "lr.fit(X_train, y_train) \n",
        "y_predict = lr.predict(X_test) \n",
        "lr.fit(X_norm, y)\n",
        "y_predict_tot = lr.predict(X_norm)"
      ],
      "execution_count": null,
      "outputs": []
    },
    {
      "cell_type": "code",
      "metadata": {
        "colab": {
          "base_uri": "https://localhost:8080/"
        },
        "id": "0WWO6ssNYeIL",
        "outputId": "21705dc3-a6ab-4a85-8b94-c808a7f6bd35"
      },
      "source": [
        "from sklearn.metrics import mean_squared_error \n",
        "from sklearn.metrics import r2_score\n",
        "n= X.shape[0] \n",
        "p= X.shape[1]\n",
        "adjusted_r2 = 1 - (1- r2_score(y_test, y_predict))*(n-1)*(1/(n-p-1))\n",
        "print(\"RMSE Train = \", (mean_squared_error(y, y_predict_tot))**(1/2)) \n",
        "print(\"RMSE Test = \", (mean_squared_error(y_test, y_predict))**(1/2)) \n",
        "print(\"R2 Score = \", r2_score(y, y_predict_tot))  \n",
        "print(\"Adjusted R2 Score = \", adjusted_r2)"
      ],
      "execution_count": null,
      "outputs": [
        {
          "output_type": "stream",
          "text": [
            "RMSE Train =  1.0035356425291149\n",
            "RMSE Test =  1.01908769009286\n",
            "R2 Score =  0.8734133434127012\n",
            "Adjusted R2 Score =  0.8798566232675059\n"
          ],
          "name": "stdout"
        }
      ]
    },
    {
      "cell_type": "code",
      "metadata": {
        "id": "gkERGshaYMXm"
      },
      "source": [
        "def summary(X, y, y_predict, lr):\n",
        "  from scipy import stats \n",
        "  n = X.shape[0] \n",
        "  p = X.shape[1] \n",
        "  R2 = r2_score(y,y_predict) \n",
        "  adjusted_r2 = 1- (1-R2)*((n-1)/(n-p-1)) \n",
        "  RMSE = mean_squared_error(y,y_predict)**(1/2) \n",
        "  print(\"RMSE = \", RMSE) \n",
        "  print(\"R2 Score = \", R2)\n",
        "  print(\"Adjusted R2 =\" ,adjusted_r2) \n",
        "\n",
        "  weights = np.append(lr.intercept_,lr.coef_)\n",
        "\n",
        "  #newX = pd.DataFrame({\"Constant\":np.ones(len(X))}).join(pd.DataFrame(X))\n",
        "  #MSE = (mean_squared_error(y, y_predict_tot))/(len(newX)-len(newX.columns))\n",
        "\n",
        "  # Note if you don't want to use a DataFrame replace the two lines above with\n",
        "  newX = np.append(np.ones((len(X),1)), X, axis=1)\n",
        "  MSE = (sum((y-y_predict)**2))/(newX.shape[0]-newX.shape[1])\n",
        "\n",
        "\n",
        "  var_b = MSE*(np.linalg.inv(np.dot(newX.T,newX)).diagonal())\n",
        "  sd_b = np.sqrt(var_b)\n",
        "  ts_b = weights/ sd_b\n",
        "\n",
        "  p_values =[2.0*(1.0-stats.t.cdf(np.abs(i),(newX.shape[0]-newX.shape[1]))) for i in ts_b]\n",
        "\n",
        "  sd_b = np.round(sd_b,3)\n",
        "  ts_b = np.round(ts_b,3)\n",
        "  p_values = np.round(p_values,100)\n",
        "  weights = np.round(weights,4)\n",
        "\n",
        "  myDF3 = pd.DataFrame()\n",
        "  myDF3[\"Coefficients\"],myDF3[\"Standard Errors\"],myDF3[\"t values\"],myDF3[\"Probabilities\"] = [weights,sd_b,ts_b,p_values]\n",
        "  print(myDF3)\n",
        "\n",
        "  interval_95 = pd.DataFrame(np.column_stack((weights-2*sd_b, weights+2*sd_b)), columns=['LowerBound', 'UpperBound'])\n",
        "  print('95 per intervals')\n",
        "  print(interval_95)\n",
        "  return"
      ],
      "execution_count": null,
      "outputs": []
    },
    {
      "cell_type": "code",
      "metadata": {
        "colab": {
          "base_uri": "https://localhost:8080/"
        },
        "id": "1Arf0w8ZZ1Bs",
        "outputId": "ac4a9f95-6224-42f9-b5f5-d5fc0b028ded"
      },
      "source": [
        "summary(X,y,y_predict_tot,lr)"
      ],
      "execution_count": null,
      "outputs": [
        {
          "output_type": "stream",
          "text": [
            "RMSE =  1.0035356425291149\n",
            "R2 Score =  0.8734133434127012\n",
            "Adjusted R2 = 0.8694881757665833\n",
            "    Coefficients  Standard Errors  t values  Probabilities\n",
            "0         7.4963              NaN       NaN            NaN\n",
            "1         1.4215            0.004   342.281       0.000000\n",
            "2         0.4417            0.002   239.083       0.000000\n",
            "3         0.8176            0.011    73.406       0.000000\n",
            "4         0.0306            0.000    82.489       0.000000\n",
            "5        -2.2549            0.003  -843.115       0.000000\n",
            "6        -0.7450            0.003  -233.852       0.000000\n",
            "7        -0.0552            0.020    -2.797       0.005416\n",
            "8        -0.9267              NaN       NaN            NaN\n",
            "9         1.0965              NaN       NaN            NaN\n",
            "10       -0.1060              NaN       NaN            NaN\n",
            "11       -0.0881            0.150    -0.587       0.557457\n",
            "12        0.0560            0.113     0.495       0.620594\n",
            "95 per intervals\n",
            "    LowerBound  UpperBound\n",
            "0          NaN         NaN\n",
            "1       1.4135      1.4295\n",
            "2       0.4377      0.4457\n",
            "3       0.7956      0.8396\n",
            "4       0.0306      0.0306\n",
            "5      -2.2609     -2.2489\n",
            "6      -0.7510     -0.7390\n",
            "7      -0.0952     -0.0152\n",
            "8          NaN         NaN\n",
            "9          NaN         NaN\n",
            "10         NaN         NaN\n",
            "11     -0.3881      0.2119\n",
            "12     -0.1700      0.2820\n"
          ],
          "name": "stdout"
        },
        {
          "output_type": "stream",
          "text": [
            "/usr/local/lib/python3.7/dist-packages/ipykernel_launcher.py:23: RuntimeWarning: invalid value encountered in sqrt\n"
          ],
          "name": "stderr"
        }
      ]
    },
    {
      "cell_type": "code",
      "metadata": {
        "colab": {
          "base_uri": "https://localhost:8080/",
          "height": 285
        },
        "id": "2DdxY7eZYp3w",
        "outputId": "48b3f76a-f7f9-47d5-a673-6a2478ffd911"
      },
      "source": [
        "import matplotlib.pyplot as plt\n",
        "plt.scatter(y_predict_tot, y_predict_tot-y)"
      ],
      "execution_count": null,
      "outputs": [
        {
          "output_type": "execute_result",
          "data": {
            "text/plain": [
              "<matplotlib.collections.PathCollection at 0x7fe600151490>"
            ]
          },
          "metadata": {
            "tags": []
          },
          "execution_count": 16
        },
        {
          "output_type": "display_data",
          "data": {
            "image/png": "[encoded data removed]",
            "text/plain": [
              "<Figure size 432x288 with 1 Axes>"
            ]
          },
          "metadata": {
            "tags": [],
            "needs_background": "light"
          }
        }
      ]
    },
    {
      "cell_type": "markdown",
      "metadata": {
        "id": "j7ttPRzyGoBz"
      },
      "source": [
        "#Questions from here:"
      ]
    },
    {
      "cell_type": "code",
      "metadata": {
        "colab": {
          "base_uri": "https://localhost:8080/"
        },
        "id": "RCdVPOCA8d5P",
        "outputId": "71371327-99c1-4c5d-dfe6-e2e45d402b11"
      },
      "source": [
        "X = np.column_stack((df['Price'].values, US_encoded, Urban_encoded))\n",
        "X = X.astype(np.float) \n",
        "y = df['Sales'].values.reshape(-1,1)\n",
        "print(X.shape, y.shape)"
      ],
      "execution_count": null,
      "outputs": [
        {
          "output_type": "stream",
          "text": [
            "(400, 3) (400, 1)\n"
          ],
          "name": "stdout"
        }
      ]
    },
    {
      "cell_type": "code",
      "metadata": {
        "id": "EkKUvhcEblme"
      },
      "source": [
        "lr.fit(X,y)\n",
        "y_predict = lr.predict(X) "
      ],
      "execution_count": null,
      "outputs": []
    },
    {
      "cell_type": "code",
      "metadata": {
        "colab": {
          "base_uri": "https://localhost:8080/"
        },
        "id": "wKI5N8npjU0r",
        "outputId": "cf2cf31e-403c-4345-80bf-277b33587165"
      },
      "source": [
        "summary(X,y,y_predict,lr)"
      ],
      "execution_count": null,
      "outputs": [
        {
          "output_type": "stream",
          "text": [
            "RMSE =  2.4600989164099034\n",
            "R2 Score =  0.23927539218405547\n",
            "Adjusted R2 = 0.23351232697332858\n",
            "   Coefficients  Standard Errors  t values  Probabilities\n",
            "0       13.0435            0.651    20.036       0.000000\n",
            "1       -0.0545            0.005   -10.389       0.000000\n",
            "2        1.2006            0.259     4.635       0.000005\n",
            "3       -0.0219            0.272    -0.081       0.935739\n",
            "95 per intervals\n",
            "   LowerBound  UpperBound\n",
            "0     11.7415     14.3455\n",
            "1     -0.0645     -0.0445\n",
            "2      0.6826      1.7186\n",
            "3     -0.5659      0.5221\n"
          ],
          "name": "stdout"
        }
      ]
    },
    {
      "cell_type": "code",
      "metadata": {
        "colab": {
          "base_uri": "https://localhost:8080/"
        },
        "id": "8m0DTZg7M7-k",
        "outputId": "76ac9f9a-cc6f-4bff-89a4-2d93c7ff81c8"
      },
      "source": [
        "#Rejecting feature Urban \n",
        "X = X = np.column_stack((df['Price'].values, US_encoded)) \n",
        "X.shape"
      ],
      "execution_count": null,
      "outputs": [
        {
          "output_type": "execute_result",
          "data": {
            "text/plain": [
              "(400, 2)"
            ]
          },
          "metadata": {
            "tags": []
          },
          "execution_count": 20
        }
      ]
    },
    {
      "cell_type": "code",
      "metadata": {
        "id": "7kX5voCwN1AL"
      },
      "source": [
        "lr.fit(X,y) \n",
        "y_predict = lr.predict(X) "
      ],
      "execution_count": null,
      "outputs": []
    },
    {
      "cell_type": "code",
      "metadata": {
        "colab": {
          "base_uri": "https://localhost:8080/",
          "height": 285
        },
        "id": "IGd77zG-dXTQ",
        "outputId": "b1aaf008-00fe-493c-faac-89bcf9a3571d"
      },
      "source": [
        "plt.scatter(y_predict, y_predict-y)"
      ],
      "execution_count": null,
      "outputs": [
        {
          "output_type": "execute_result",
          "data": {
            "text/plain": [
              "<matplotlib.collections.PathCollection at 0x7f9c6a214390>"
            ]
          },
          "metadata": {
            "tags": []
          },
          "execution_count": 19
        },
        {
          "output_type": "display_data",
          "data": {
            "image/png": "[encoded data removed]",
            "text/plain": [
              "<Figure size 432x288 with 1 Axes>"
            ]
          },
          "metadata": {
            "tags": [],
            "needs_background": "light"
          }
        }
      ]
    },
    {
      "cell_type": "code",
      "metadata": {
        "colab": {
          "base_uri": "https://localhost:8080/"
        },
        "id": "1Y3PQQVyZOqb",
        "outputId": "0064cbe2-ad87-49ec-f191-22ce9cc344df"
      },
      "source": [
        "summary(X,y, y_predict, lr)"
      ],
      "execution_count": null,
      "outputs": [
        {
          "output_type": "stream",
          "text": [
            "RMSE =  2.460119134208168\n",
            "R2 Score =  0.23926288842678567\n",
            "Adjusted R2 = 0.23543045965311715\n",
            "   Coefficients  Standard Errors  t values  Probabilities\n",
            "0       13.0308            0.631    20.652       0.000000\n",
            "1       -0.0545            0.005   -10.416       0.000000\n",
            "2        1.1996            0.258     4.641       0.000005\n",
            "95 per intervals\n",
            "   LowerBound  UpperBound\n",
            "0     11.7688     14.2928\n",
            "1     -0.0645     -0.0445\n",
            "2      0.6836      1.7156\n"
          ],
          "name": "stdout"
        }
      ]
    },
    {
      "cell_type": "markdown",
      "metadata": {
        "id": "nCk5GmukG53G"
      },
      "source": [
        "#Q10 solutions"
      ]
    },
    {
      "cell_type": "markdown",
      "metadata": {
        "id": "irBaDz2hG8xl"
      },
      "source": [
        "b)Price has negatice relation with target, US (yes) has positive relation, Urban is statistically insignificant \n",
        "\n",
        "c) Sales = 13.04 -0.05Price  -0.02Urban(Yes =1) + 1.20US(Yes =1)\n",
        "\n",
        "d) We cannot reject null hypothesis for Urban\n",
        "\n",
        "f) There is not much difference in model a and e\n",
        "\n"
      ]
    },
    {
      "cell_type": "code",
      "metadata": {
        "id": "OicXN10oZh55"
      },
      "source": [
        ""
      ],
      "execution_count": null,
      "outputs": []
    }
  ]
}