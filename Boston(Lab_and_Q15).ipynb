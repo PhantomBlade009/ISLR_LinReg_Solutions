{
  "nbformat": 4,
  "nbformat_minor": 0,
  "metadata": {
    "colab": {
      "name": "Boston(Lab and Q15).ipynb",
      "provenance": [],
      "authorship_tag": "ABX9TyOHqZiyDiZlK1i9oNo3WY/F",
      "include_colab_link": true
    },
    "kernelspec": {
      "name": "python3",
      "display_name": "Python 3"
    },
    "language_info": {
      "name": "python"
    }
  },
  "cells": [
    {
      "cell_type": "markdown",
      "metadata": {
        "id": "view-in-github",
        "colab_type": "text"
      },
      "source": [
        "<a href=\"https://colab.research.google.com/github/PhantomBlade009/ISLR_LinReg_Solutions/blob/main/Boston(Lab_and_Q15).ipynb\" target=\"_parent\"><img src=\"https://colab.research.google.com/assets/colab-badge.svg\" alt=\"Open In Colab\"/></a>"
      ]
    },
    {
      "cell_type": "markdown",
      "metadata": {
        "id": "l0F6AhbHNdfT"
      },
      "source": [
        "#Question 15 solution below"
      ]
    },
    {
      "cell_type": "markdown",
      "metadata": {
        "id": "lk-MIdOXZ5xS"
      },
      "source": [
        "#Lab part and Self "
      ]
    },
    {
      "cell_type": "code",
      "metadata": {
        "id": "5Be-iF6hyrin"
      },
      "source": [
        "import pandas as pd\n",
        "import numpy as np\n",
        " "
      ],
      "execution_count": 2,
      "outputs": []
    },
    {
      "cell_type": "code",
      "metadata": {
        "id": "1TIHXme6zyog"
      },
      "source": [
        "df = pd.read_csv('https://raw.githubusercontent.com/mscaudill/IntroStatLearn/master/data/Boston.csv')"
      ],
      "execution_count": 3,
      "outputs": []
    },
    {
      "cell_type": "code",
      "metadata": {
        "id": "fCY2DEXoz8jj",
        "colab": {
          "base_uri": "https://localhost:8080/",
          "height": 202
        },
        "outputId": "1ef953d4-4ac2-4a7f-aaea-18f55bb14642"
      },
      "source": [
        "df.head()"
      ],
      "execution_count": 4,
      "outputs": [
        {
          "output_type": "execute_result",
          "data": {
            "text/html": [
              "<div>\n",
              "<style scoped>\n",
              "    .dataframe tbody tr th:only-of-type {\n",
              "        vertical-align: middle;\n",
              "    }\n",
              "\n",
              "    .dataframe tbody tr th {\n",
              "        vertical-align: top;\n",
              "    }\n",
              "\n",
              "    .dataframe thead th {\n",
              "        text-align: right;\n",
              "    }\n",
              "</style>\n",
              "<table border=\"1\" class=\"dataframe\">\n",
              "  <thead>\n",
              "    <tr style=\"text-align: right;\">\n",
              "      <th></th>\n",
              "      <th>Unnamed: 0</th>\n",
              "      <th>crim</th>\n",
              "      <th>zn</th>\n",
              "      <th>indus</th>\n",
              "      <th>chas</th>\n",
              "      <th>nox</th>\n",
              "      <th>rm</th>\n",
              "      <th>age</th>\n",
              "      <th>dis</th>\n",
              "      <th>rad</th>\n",
              "      <th>tax</th>\n",
              "      <th>ptratio</th>\n",
              "      <th>black</th>\n",
              "      <th>lstat</th>\n",
              "      <th>medv</th>\n",
              "    </tr>\n",
              "  </thead>\n",
              "  <tbody>\n",
              "    <tr>\n",
              "      <th>0</th>\n",
              "      <td>1</td>\n",
              "      <td>0.00632</td>\n",
              "      <td>18.0</td>\n",
              "      <td>2.31</td>\n",
              "      <td>0</td>\n",
              "      <td>0.538</td>\n",
              "      <td>6.575</td>\n",
              "      <td>65.2</td>\n",
              "      <td>4.0900</td>\n",
              "      <td>1</td>\n",
              "      <td>296</td>\n",
              "      <td>15.3</td>\n",
              "      <td>396.90</td>\n",
              "      <td>4.98</td>\n",
              "      <td>24.0</td>\n",
              "    </tr>\n",
              "    <tr>\n",
              "      <th>1</th>\n",
              "      <td>2</td>\n",
              "      <td>0.02731</td>\n",
              "      <td>0.0</td>\n",
              "      <td>7.07</td>\n",
              "      <td>0</td>\n",
              "      <td>0.469</td>\n",
              "      <td>6.421</td>\n",
              "      <td>78.9</td>\n",
              "      <td>4.9671</td>\n",
              "      <td>2</td>\n",
              "      <td>242</td>\n",
              "      <td>17.8</td>\n",
              "      <td>396.90</td>\n",
              "      <td>9.14</td>\n",
              "      <td>21.6</td>\n",
              "    </tr>\n",
              "    <tr>\n",
              "      <th>2</th>\n",
              "      <td>3</td>\n",
              "      <td>0.02729</td>\n",
              "      <td>0.0</td>\n",
              "      <td>7.07</td>\n",
              "      <td>0</td>\n",
              "      <td>0.469</td>\n",
              "      <td>7.185</td>\n",
              "      <td>61.1</td>\n",
              "      <td>4.9671</td>\n",
              "      <td>2</td>\n",
              "      <td>242</td>\n",
              "      <td>17.8</td>\n",
              "      <td>392.83</td>\n",
              "      <td>4.03</td>\n",
              "      <td>34.7</td>\n",
              "    </tr>\n",
              "    <tr>\n",
              "      <th>3</th>\n",
              "      <td>4</td>\n",
              "      <td>0.03237</td>\n",
              "      <td>0.0</td>\n",
              "      <td>2.18</td>\n",
              "      <td>0</td>\n",
              "      <td>0.458</td>\n",
              "      <td>6.998</td>\n",
              "      <td>45.8</td>\n",
              "      <td>6.0622</td>\n",
              "      <td>3</td>\n",
              "      <td>222</td>\n",
              "      <td>18.7</td>\n",
              "      <td>394.63</td>\n",
              "      <td>2.94</td>\n",
              "      <td>33.4</td>\n",
              "    </tr>\n",
              "    <tr>\n",
              "      <th>4</th>\n",
              "      <td>5</td>\n",
              "      <td>0.06905</td>\n",
              "      <td>0.0</td>\n",
              "      <td>2.18</td>\n",
              "      <td>0</td>\n",
              "      <td>0.458</td>\n",
              "      <td>7.147</td>\n",
              "      <td>54.2</td>\n",
              "      <td>6.0622</td>\n",
              "      <td>3</td>\n",
              "      <td>222</td>\n",
              "      <td>18.7</td>\n",
              "      <td>396.90</td>\n",
              "      <td>5.33</td>\n",
              "      <td>36.2</td>\n",
              "    </tr>\n",
              "  </tbody>\n",
              "</table>\n",
              "</div>"
            ],
            "text/plain": [
              "   Unnamed: 0     crim    zn  indus  chas  ...  tax  ptratio   black  lstat  medv\n",
              "0           1  0.00632  18.0   2.31     0  ...  296     15.3  396.90   4.98  24.0\n",
              "1           2  0.02731   0.0   7.07     0  ...  242     17.8  396.90   9.14  21.6\n",
              "2           3  0.02729   0.0   7.07     0  ...  242     17.8  392.83   4.03  34.7\n",
              "3           4  0.03237   0.0   2.18     0  ...  222     18.7  394.63   2.94  33.4\n",
              "4           5  0.06905   0.0   2.18     0  ...  222     18.7  396.90   5.33  36.2\n",
              "\n",
              "[5 rows x 15 columns]"
            ]
          },
          "metadata": {
            "tags": []
          },
          "execution_count": 4
        }
      ]
    },
    {
      "cell_type": "code",
      "metadata": {
        "colab": {
          "base_uri": "https://localhost:8080/",
          "height": 202
        },
        "id": "ObA2s5WpC0op",
        "outputId": "47558b66-a182-49fa-955f-cf80374a5794"
      },
      "source": [
        "#Dropped the first column\n",
        "df.drop(axis=1, columns= df.columns[0], inplace = True )\n",
        "df.head()"
      ],
      "execution_count": 5,
      "outputs": [
        {
          "output_type": "execute_result",
          "data": {
            "text/html": [
              "<div>\n",
              "<style scoped>\n",
              "    .dataframe tbody tr th:only-of-type {\n",
              "        vertical-align: middle;\n",
              "    }\n",
              "\n",
              "    .dataframe tbody tr th {\n",
              "        vertical-align: top;\n",
              "    }\n",
              "\n",
              "    .dataframe thead th {\n",
              "        text-align: right;\n",
              "    }\n",
              "</style>\n",
              "<table border=\"1\" class=\"dataframe\">\n",
              "  <thead>\n",
              "    <tr style=\"text-align: right;\">\n",
              "      <th></th>\n",
              "      <th>crim</th>\n",
              "      <th>zn</th>\n",
              "      <th>indus</th>\n",
              "      <th>chas</th>\n",
              "      <th>nox</th>\n",
              "      <th>rm</th>\n",
              "      <th>age</th>\n",
              "      <th>dis</th>\n",
              "      <th>rad</th>\n",
              "      <th>tax</th>\n",
              "      <th>ptratio</th>\n",
              "      <th>black</th>\n",
              "      <th>lstat</th>\n",
              "      <th>medv</th>\n",
              "    </tr>\n",
              "  </thead>\n",
              "  <tbody>\n",
              "    <tr>\n",
              "      <th>0</th>\n",
              "      <td>0.00632</td>\n",
              "      <td>18.0</td>\n",
              "      <td>2.31</td>\n",
              "      <td>0</td>\n",
              "      <td>0.538</td>\n",
              "      <td>6.575</td>\n",
              "      <td>65.2</td>\n",
              "      <td>4.0900</td>\n",
              "      <td>1</td>\n",
              "      <td>296</td>\n",
              "      <td>15.3</td>\n",
              "      <td>396.90</td>\n",
              "      <td>4.98</td>\n",
              "      <td>24.0</td>\n",
              "    </tr>\n",
              "    <tr>\n",
              "      <th>1</th>\n",
              "      <td>0.02731</td>\n",
              "      <td>0.0</td>\n",
              "      <td>7.07</td>\n",
              "      <td>0</td>\n",
              "      <td>0.469</td>\n",
              "      <td>6.421</td>\n",
              "      <td>78.9</td>\n",
              "      <td>4.9671</td>\n",
              "      <td>2</td>\n",
              "      <td>242</td>\n",
              "      <td>17.8</td>\n",
              "      <td>396.90</td>\n",
              "      <td>9.14</td>\n",
              "      <td>21.6</td>\n",
              "    </tr>\n",
              "    <tr>\n",
              "      <th>2</th>\n",
              "      <td>0.02729</td>\n",
              "      <td>0.0</td>\n",
              "      <td>7.07</td>\n",
              "      <td>0</td>\n",
              "      <td>0.469</td>\n",
              "      <td>7.185</td>\n",
              "      <td>61.1</td>\n",
              "      <td>4.9671</td>\n",
              "      <td>2</td>\n",
              "      <td>242</td>\n",
              "      <td>17.8</td>\n",
              "      <td>392.83</td>\n",
              "      <td>4.03</td>\n",
              "      <td>34.7</td>\n",
              "    </tr>\n",
              "    <tr>\n",
              "      <th>3</th>\n",
              "      <td>0.03237</td>\n",
              "      <td>0.0</td>\n",
              "      <td>2.18</td>\n",
              "      <td>0</td>\n",
              "      <td>0.458</td>\n",
              "      <td>6.998</td>\n",
              "      <td>45.8</td>\n",
              "      <td>6.0622</td>\n",
              "      <td>3</td>\n",
              "      <td>222</td>\n",
              "      <td>18.7</td>\n",
              "      <td>394.63</td>\n",
              "      <td>2.94</td>\n",
              "      <td>33.4</td>\n",
              "    </tr>\n",
              "    <tr>\n",
              "      <th>4</th>\n",
              "      <td>0.06905</td>\n",
              "      <td>0.0</td>\n",
              "      <td>2.18</td>\n",
              "      <td>0</td>\n",
              "      <td>0.458</td>\n",
              "      <td>7.147</td>\n",
              "      <td>54.2</td>\n",
              "      <td>6.0622</td>\n",
              "      <td>3</td>\n",
              "      <td>222</td>\n",
              "      <td>18.7</td>\n",
              "      <td>396.90</td>\n",
              "      <td>5.33</td>\n",
              "      <td>36.2</td>\n",
              "    </tr>\n",
              "  </tbody>\n",
              "</table>\n",
              "</div>"
            ],
            "text/plain": [
              "      crim    zn  indus  chas    nox  ...  tax  ptratio   black  lstat  medv\n",
              "0  0.00632  18.0   2.31     0  0.538  ...  296     15.3  396.90   4.98  24.0\n",
              "1  0.02731   0.0   7.07     0  0.469  ...  242     17.8  396.90   9.14  21.6\n",
              "2  0.02729   0.0   7.07     0  0.469  ...  242     17.8  392.83   4.03  34.7\n",
              "3  0.03237   0.0   2.18     0  0.458  ...  222     18.7  394.63   2.94  33.4\n",
              "4  0.06905   0.0   2.18     0  0.458  ...  222     18.7  396.90   5.33  36.2\n",
              "\n",
              "[5 rows x 14 columns]"
            ]
          },
          "metadata": {
            "tags": []
          },
          "execution_count": 5
        }
      ]
    },
    {
      "cell_type": "code",
      "metadata": {
        "colab": {
          "base_uri": "https://localhost:8080/"
        },
        "id": "HuHasqI5DQzW",
        "outputId": "2d3d8041-137c-4fcd-c232-214ec85fb746"
      },
      "source": [
        "df.isnull().sum()"
      ],
      "execution_count": 6,
      "outputs": [
        {
          "output_type": "execute_result",
          "data": {
            "text/plain": [
              "crim       0\n",
              "zn         0\n",
              "indus      0\n",
              "chas       0\n",
              "nox        0\n",
              "rm         0\n",
              "age        0\n",
              "dis        0\n",
              "rad        0\n",
              "tax        0\n",
              "ptratio    0\n",
              "black      0\n",
              "lstat      0\n",
              "medv       0\n",
              "dtype: int64"
            ]
          },
          "metadata": {
            "tags": []
          },
          "execution_count": 6
        }
      ]
    },
    {
      "cell_type": "code",
      "metadata": {
        "colab": {
          "base_uri": "https://localhost:8080/"
        },
        "id": "XIzWWonMD4CE",
        "outputId": "dee10f35-73a9-4bae-8e8e-4d2edce2f145"
      },
      "source": [
        "X = df.iloc[:,0:df.shape[1]-1].values\n",
        "y = df.iloc[:,df.shape[1]-1].values.reshape(-1,1)\n",
        "print(X.shape, y.shape)"
      ],
      "execution_count": 7,
      "outputs": [
        {
          "output_type": "stream",
          "text": [
            "(506, 13) (506, 1)\n"
          ],
          "name": "stdout"
        }
      ]
    },
    {
      "cell_type": "code",
      "metadata": {
        "id": "z2v0EiWUG58G"
      },
      "source": [
        "from sklearn.preprocessing import StandardScaler \n",
        "scaler = StandardScaler()\n",
        "X_norm = scaler.fit_transform(X)"
      ],
      "execution_count": 8,
      "outputs": []
    },
    {
      "cell_type": "code",
      "metadata": {
        "id": "SKuioVW2ExsQ"
      },
      "source": [
        "from sklearn.linear_model import LinearRegression \n",
        "lr = LinearRegression()"
      ],
      "execution_count": 9,
      "outputs": []
    },
    {
      "cell_type": "code",
      "metadata": {
        "id": "4U04Qd4Bc_Ym"
      },
      "source": [
        "lr.fit(X_norm, y)\n",
        "y_predict = lr.predict(X_norm)"
      ],
      "execution_count": 10,
      "outputs": []
    },
    {
      "cell_type": "code",
      "metadata": {
        "id": "mFZ12PK6fUml"
      },
      "source": [
        "def summary(X, y, y_predict, lr):\n",
        "  from scipy import stats\n",
        "  from sklearn.metrics import r2_score \n",
        "  from sklearn.metrics import mean_squared_error\n",
        "\n",
        "  n = X.shape[0] \n",
        "  p = X.shape[1] \n",
        "  R2 = r2_score(y,y_predict) \n",
        "  adjusted_r2 = 1- (1-R2)*((n-1)/(n-p-1)) \n",
        "  RMSE = mean_squared_error(y,y_predict)**(1/2) \n",
        "  print(\"RMSE = \", RMSE) \n",
        "  print(\"R2 Score = \", R2)\n",
        "  print(\"Adjusted R2 =\" ,adjusted_r2) \n",
        "\n",
        "  weights = np.append(lr.intercept_,lr.coef_)\n",
        "\n",
        "  #newX = pd.DataFrame({\"Constant\":np.ones(len(X))}).join(pd.DataFrame(X))\n",
        "  #MSE = (mean_squared_error(y, y_predict_tot))/(len(newX)-len(newX.columns))\n",
        "\n",
        "  # Note if you don't want to use a DataFrame replace the two lines above with\n",
        "  newX = np.append(np.ones((len(X),1)), X, axis=1)\n",
        "  MSE = (sum((y-y_predict)**2))/(newX.shape[0]-newX.shape[1])\n",
        "\n",
        "\n",
        "  var_b = MSE*(np.linalg.pinv(np.dot(newX.T,newX)).diagonal())\n",
        "  sd_b = np.sqrt(var_b)\n",
        "  ts_b = weights/ sd_b\n",
        "\n",
        "  p_values =[2.0*(1.0-stats.t.cdf(np.abs(i),(newX.shape[0]-newX.shape[1]))) for i in ts_b]\n",
        "\n",
        "  sd_b = np.round(sd_b,3)\n",
        "  ts_b = np.round(ts_b,3)\n",
        "  p_values = np.round(p_values,100)\n",
        "  weights = np.round(weights,4)\n",
        "\n",
        "  myDF3 = pd.DataFrame()\n",
        "  myDF3[\"Coefficients\"],myDF3[\"Standard Errors\"],myDF3[\"t values\"],myDF3[\"Probabilities\"] = [weights,sd_b,ts_b,p_values]\n",
        "  print(myDF3)\n",
        "\n",
        "  interval_95 = pd.DataFrame(np.column_stack((weights-2*sd_b, weights+2*sd_b)), columns=['LowerBound', 'UpperBound'])\n",
        "  print('95 per intervals')\n",
        "  print(interval_95)\n",
        "  return"
      ],
      "execution_count": 27,
      "outputs": []
    },
    {
      "cell_type": "code",
      "metadata": {
        "colab": {
          "base_uri": "https://localhost:8080/"
        },
        "id": "Ohq7P2GPdMq2",
        "outputId": "ec4aa264-ea4e-4393-e5cf-420a9fb910f1"
      },
      "source": [
        "summary(X_norm,y,y_predict,lr)"
      ],
      "execution_count": 28,
      "outputs": [
        {
          "output_type": "stream",
          "text": [
            "RMSE =  4.679191295697282\n",
            "R2 Score =  0.7406426641094094\n",
            "Adjusted R2 = 0.7337897263724629\n",
            "    Coefficients  Standard Errors  t values  Probabilities\n",
            "0        36.4595            0.211   172.831       0.000000\n",
            "1        -0.1080            0.282    -0.382       0.702283\n",
            "2         0.0464            0.320     0.145       0.884663\n",
            "3         0.0206            0.421     0.049       0.961115\n",
            "4         2.6867            0.219    12.290       0.000000\n",
            "5       -17.7666            0.442   -40.179       0.000000\n",
            "6         3.8099            0.293    12.987       0.000000\n",
            "7         0.0007            0.371     0.002       0.998514\n",
            "8        -1.4756            0.420    -3.517       0.000477\n",
            "9         0.3060            0.577     0.530       0.596143\n",
            "10       -0.0123            0.633    -0.019       0.984465\n",
            "11       -0.9527            0.283    -3.367       0.000819\n",
            "12        0.0093            0.245     0.038       0.969694\n",
            "13       -0.5248            0.362    -1.450       0.147585\n",
            "95 per intervals\n",
            "    LowerBound  UpperBound\n",
            "0      36.0375     36.8815\n",
            "1      -0.6720      0.4560\n",
            "2      -0.5936      0.6864\n",
            "3      -0.8214      0.8626\n",
            "4       2.2487      3.1247\n",
            "5     -18.6506    -16.8826\n",
            "6       3.2239      4.3959\n",
            "7      -0.7413      0.7427\n",
            "8      -2.3156     -0.6356\n",
            "9      -0.8480      1.4600\n",
            "10     -1.2783      1.2537\n",
            "11     -1.5187     -0.3867\n",
            "12     -0.4807      0.4993\n",
            "13     -1.2488      0.1992\n"
          ],
          "name": "stdout"
        }
      ]
    },
    {
      "cell_type": "code",
      "metadata": {
        "id": "vugnVoQNdROP",
        "colab": {
          "base_uri": "https://localhost:8080/",
          "height": 283
        },
        "outputId": "c34104bf-eaba-41b9-bcb8-f6398d6f0da6"
      },
      "source": [
        "import matplotlib.pyplot as plt \n",
        "plt.scatter(y_predict-y, y_predict)"
      ],
      "execution_count": 29,
      "outputs": [
        {
          "output_type": "execute_result",
          "data": {
            "text/plain": [
              "<matplotlib.collections.PathCollection at 0x7f4f10604a90>"
            ]
          },
          "metadata": {
            "tags": []
          },
          "execution_count": 29
        },
        {
          "output_type": "display_data",
          "data": {
            "image/png": "[encoded data removed]",
            "text/plain": [
              "<Figure size 432x288 with 1 Axes>"
            ]
          },
          "metadata": {
            "tags": [],
            "needs_background": "light"
          }
        }
      ]
    },
    {
      "cell_type": "code",
      "metadata": {
        "id": "tygq46ZPaPsR"
      },
      "source": [
        "from sklearn.preprocessing import PolynomialFeatures \n",
        "poly = PolynomialFeatures(degree = 2, include_bias = False, interaction_only = True) \n",
        "X_norm = poly.fit_transform(X_norm)"
      ],
      "execution_count": 30,
      "outputs": []
    },
    {
      "cell_type": "code",
      "metadata": {
        "id": "bgAZRleXKMaA"
      },
      "source": [
        "lr.fit(X_norm, y)\n",
        "y_predict = lr.predict(X_norm)"
      ],
      "execution_count": 31,
      "outputs": []
    },
    {
      "cell_type": "code",
      "metadata": {
        "colab": {
          "base_uri": "https://localhost:8080/"
        },
        "id": "GbxJLEGZLGw3",
        "outputId": "75bf8a66-258b-4251-dbdd-8a912307e23c"
      },
      "source": [
        "summary(X_norm,y,y_predict,lr)"
      ],
      "execution_count": 32,
      "outputs": [
        {
          "output_type": "stream",
          "text": [
            "RMSE =  2.5794001227398327\n",
            "R2 Score =  0.9211876335753\n",
            "Adjusted R2 = 0.9038641424046534\n",
            "    Coefficients  Standard Errors  t values  Probabilities\n",
            "0        36.3908            6.527     5.575   4.467968e-08\n",
            "1        36.8834           16.227     2.273   2.354193e-02\n",
            "2        32.6516           14.596     2.237   2.581169e-02\n",
            "3        -0.8710           10.552    -0.083   9.342576e-01\n",
            "4         1.8761            0.481     3.899   1.126197e-04\n",
            "..           ...              ...       ...            ...\n",
            "87       -0.0073            3.070    -0.002   9.980915e-01\n",
            "88       -1.6854            1.451    -1.162   2.459402e-01\n",
            "89        0.2374            0.663     0.358   7.205080e-01\n",
            "90        0.0602            0.461     0.131   8.960685e-01\n",
            "91       -0.3980            0.270    -1.472   1.418367e-01\n",
            "\n",
            "[92 rows x 4 columns]\n",
            "95 per intervals\n",
            "    LowerBound  UpperBound\n",
            "0      23.3368     49.4448\n",
            "1       4.4294     69.3374\n",
            "2       3.4596     61.8436\n",
            "3     -21.9750     20.2330\n",
            "4       0.9141      2.8381\n",
            "..         ...         ...\n",
            "87     -6.1473      6.1327\n",
            "88     -4.5874      1.2166\n",
            "89     -1.0886      1.5634\n",
            "90     -0.8618      0.9822\n",
            "91     -0.9380      0.1420\n",
            "\n",
            "[92 rows x 2 columns]\n"
          ],
          "name": "stdout"
        }
      ]
    },
    {
      "cell_type": "code",
      "metadata": {
        "colab": {
          "base_uri": "https://localhost:8080/",
          "height": 283
        },
        "id": "IgiBPQyOZTii",
        "outputId": "3626ca7e-f20a-421f-9a04-cdc46ac51d82"
      },
      "source": [
        "#Residual Plot  \n",
        "plt.scatter(y_predict, y - y_predict )"
      ],
      "execution_count": 33,
      "outputs": [
        {
          "output_type": "execute_result",
          "data": {
            "text/plain": [
              "<matplotlib.collections.PathCollection at 0x7f4f10627c10>"
            ]
          },
          "metadata": {
            "tags": []
          },
          "execution_count": 33
        },
        {
          "output_type": "display_data",
          "data": {
            "image/png": "[encoded data removed]",
            "text/plain": [
              "<Figure size 432x288 with 1 Axes>"
            ]
          },
          "metadata": {
            "tags": [],
            "needs_background": "light"
          }
        }
      ]
    },
    {
      "cell_type": "code",
      "metadata": {
        "id": "b8-RCyB7Z_X_",
        "colab": {
          "base_uri": "https://localhost:8080/",
          "height": 202
        },
        "outputId": "ef74dd7f-4834-43a3-8160-f5d4badf0c8d"
      },
      "source": [
        "df.head()"
      ],
      "execution_count": 34,
      "outputs": [
        {
          "output_type": "execute_result",
          "data": {
            "text/html": [
              "<div>\n",
              "<style scoped>\n",
              "    .dataframe tbody tr th:only-of-type {\n",
              "        vertical-align: middle;\n",
              "    }\n",
              "\n",
              "    .dataframe tbody tr th {\n",
              "        vertical-align: top;\n",
              "    }\n",
              "\n",
              "    .dataframe thead th {\n",
              "        text-align: right;\n",
              "    }\n",
              "</style>\n",
              "<table border=\"1\" class=\"dataframe\">\n",
              "  <thead>\n",
              "    <tr style=\"text-align: right;\">\n",
              "      <th></th>\n",
              "      <th>crim</th>\n",
              "      <th>zn</th>\n",
              "      <th>indus</th>\n",
              "      <th>chas</th>\n",
              "      <th>nox</th>\n",
              "      <th>rm</th>\n",
              "      <th>age</th>\n",
              "      <th>dis</th>\n",
              "      <th>rad</th>\n",
              "      <th>tax</th>\n",
              "      <th>ptratio</th>\n",
              "      <th>black</th>\n",
              "      <th>lstat</th>\n",
              "      <th>medv</th>\n",
              "    </tr>\n",
              "  </thead>\n",
              "  <tbody>\n",
              "    <tr>\n",
              "      <th>0</th>\n",
              "      <td>0.00632</td>\n",
              "      <td>18.0</td>\n",
              "      <td>2.31</td>\n",
              "      <td>0</td>\n",
              "      <td>0.538</td>\n",
              "      <td>6.575</td>\n",
              "      <td>65.2</td>\n",
              "      <td>4.0900</td>\n",
              "      <td>1</td>\n",
              "      <td>296</td>\n",
              "      <td>15.3</td>\n",
              "      <td>396.90</td>\n",
              "      <td>4.98</td>\n",
              "      <td>24.0</td>\n",
              "    </tr>\n",
              "    <tr>\n",
              "      <th>1</th>\n",
              "      <td>0.02731</td>\n",
              "      <td>0.0</td>\n",
              "      <td>7.07</td>\n",
              "      <td>0</td>\n",
              "      <td>0.469</td>\n",
              "      <td>6.421</td>\n",
              "      <td>78.9</td>\n",
              "      <td>4.9671</td>\n",
              "      <td>2</td>\n",
              "      <td>242</td>\n",
              "      <td>17.8</td>\n",
              "      <td>396.90</td>\n",
              "      <td>9.14</td>\n",
              "      <td>21.6</td>\n",
              "    </tr>\n",
              "    <tr>\n",
              "      <th>2</th>\n",
              "      <td>0.02729</td>\n",
              "      <td>0.0</td>\n",
              "      <td>7.07</td>\n",
              "      <td>0</td>\n",
              "      <td>0.469</td>\n",
              "      <td>7.185</td>\n",
              "      <td>61.1</td>\n",
              "      <td>4.9671</td>\n",
              "      <td>2</td>\n",
              "      <td>242</td>\n",
              "      <td>17.8</td>\n",
              "      <td>392.83</td>\n",
              "      <td>4.03</td>\n",
              "      <td>34.7</td>\n",
              "    </tr>\n",
              "    <tr>\n",
              "      <th>3</th>\n",
              "      <td>0.03237</td>\n",
              "      <td>0.0</td>\n",
              "      <td>2.18</td>\n",
              "      <td>0</td>\n",
              "      <td>0.458</td>\n",
              "      <td>6.998</td>\n",
              "      <td>45.8</td>\n",
              "      <td>6.0622</td>\n",
              "      <td>3</td>\n",
              "      <td>222</td>\n",
              "      <td>18.7</td>\n",
              "      <td>394.63</td>\n",
              "      <td>2.94</td>\n",
              "      <td>33.4</td>\n",
              "    </tr>\n",
              "    <tr>\n",
              "      <th>4</th>\n",
              "      <td>0.06905</td>\n",
              "      <td>0.0</td>\n",
              "      <td>2.18</td>\n",
              "      <td>0</td>\n",
              "      <td>0.458</td>\n",
              "      <td>7.147</td>\n",
              "      <td>54.2</td>\n",
              "      <td>6.0622</td>\n",
              "      <td>3</td>\n",
              "      <td>222</td>\n",
              "      <td>18.7</td>\n",
              "      <td>396.90</td>\n",
              "      <td>5.33</td>\n",
              "      <td>36.2</td>\n",
              "    </tr>\n",
              "  </tbody>\n",
              "</table>\n",
              "</div>"
            ],
            "text/plain": [
              "      crim    zn  indus  chas    nox  ...  tax  ptratio   black  lstat  medv\n",
              "0  0.00632  18.0   2.31     0  0.538  ...  296     15.3  396.90   4.98  24.0\n",
              "1  0.02731   0.0   7.07     0  0.469  ...  242     17.8  396.90   9.14  21.6\n",
              "2  0.02729   0.0   7.07     0  0.469  ...  242     17.8  392.83   4.03  34.7\n",
              "3  0.03237   0.0   2.18     0  0.458  ...  222     18.7  394.63   2.94  33.4\n",
              "4  0.06905   0.0   2.18     0  0.458  ...  222     18.7  396.90   5.33  36.2\n",
              "\n",
              "[5 rows x 14 columns]"
            ]
          },
          "metadata": {
            "tags": []
          },
          "execution_count": 34
        }
      ]
    },
    {
      "cell_type": "markdown",
      "metadata": {
        "id": "uRZfw7ELe1Aa"
      },
      "source": [
        "**Question** **15**"
      ]
    },
    {
      "cell_type": "code",
      "metadata": {
        "id": "rXSPvwWYeXIT"
      },
      "source": [
        "X = df.iloc[:,1:df.shape[1]].values\n",
        "X = X.astype(np.float) \n",
        "y= df.iloc[:,0].values.reshape(-1,1)"
      ],
      "execution_count": 39,
      "outputs": []
    },
    {
      "cell_type": "code",
      "metadata": {
        "colab": {
          "base_uri": "https://localhost:8080/"
        },
        "id": "f5_O5suJcflE",
        "outputId": "895b6652-6f65-40e6-c58c-6641a696d3ab"
      },
      "source": [
        "single_wts = np.zeros((X.shape[1],1))\n",
        "single_wts.shape"
      ],
      "execution_count": 40,
      "outputs": [
        {
          "output_type": "execute_result",
          "data": {
            "text/plain": [
              "(13, 1)"
            ]
          },
          "metadata": {
            "tags": []
          },
          "execution_count": 40
        }
      ]
    },
    {
      "cell_type": "code",
      "metadata": {
        "colab": {
          "base_uri": "https://localhost:8080/"
        },
        "id": "9igh42P_ep17",
        "outputId": "3abb186a-2787-42e9-96ea-4cc7f4e95f23"
      },
      "source": [
        "for i in range(X.shape[1]):\n",
        "  Xtemp = X[:,i].reshape(-1,1)\n",
        "  lr.fit(Xtemp,y) \n",
        "  y_predict = lr.predict(Xtemp)\n",
        "  summary(Xtemp, y, y_predict, lr) \n",
        "  print('____________________________________________________')\n",
        "  single_wts[i] = lr.coef_[0]"
      ],
      "execution_count": 41,
      "outputs": [
        {
          "output_type": "stream",
          "text": [
            "RMSE =  8.418602620494738\n",
            "R2 Score =  0.04018790803211081\n",
            "Adjusted R2 = 0.038283518960746\n",
            "   Coefficients  Standard Errors  t values  Probabilities\n",
            "0        4.4537            0.417    10.675       0.000000\n",
            "1       -0.0739            0.016    -4.594       0.000006\n",
            "95 per intervals\n",
            "   LowerBound  UpperBound\n",
            "0      3.6197      5.2877\n",
            "1     -0.1059     -0.0419\n",
            "____________________________________________________\n",
            "RMSE =  7.850720005720037\n",
            "R2 Score =  0.16531007043075152\n",
            "Adjusted R2 = 0.16365393961811414\n",
            "   Coefficients  Standard Errors  t values  Probabilities\n",
            "0       -2.0637            0.667    -3.093       0.002091\n",
            "1        0.5098            0.051     9.991       0.000000\n",
            "95 per intervals\n",
            "   LowerBound  UpperBound\n",
            "0     -3.3977     -0.7297\n",
            "1      0.4078      0.6118\n",
            "____________________________________________________\n",
            "RMSE =  8.579609085341941\n",
            "R2 Score =  0.0031238689633057426\n",
            "Adjusted R2 = 0.0011459401318837381\n",
            "   Coefficients  Standard Errors  t values  Probabilities\n",
            "0        3.7444            0.396     9.453       0.000000\n",
            "1       -1.8928            1.506    -1.257       0.209435\n",
            "95 per intervals\n",
            "   LowerBound  UpperBound\n",
            "0      2.9524      4.5364\n",
            "1     -4.9048      1.1192\n",
            "____________________________________________________\n",
            "RMSE =  7.794522385795993\n",
            "R2 Score =  0.17721718179269363\n",
            "Adjusted R2 = 0.17558467620101248\n",
            "   Coefficients  Standard Errors  t values  Probabilities\n",
            "0      -13.7199            1.699    -8.073   5.107026e-15\n",
            "1       31.2485            2.999    10.419   0.000000e+00\n",
            "95 per intervals\n",
            "   LowerBound  UpperBound\n",
            "0    -17.1179    -10.3219\n",
            "1     25.2505     37.2465\n",
            "____________________________________________________\n",
            "RMSE =  8.383967962604627\n",
            "R2 Score =  0.048069116716083604\n",
            "Adjusted R2 = 0.04618036496353617\n",
            "   Coefficients  Standard Errors  t values  Probabilities\n",
            "0       20.4818            3.364     6.088   2.272000e-09\n",
            "1       -2.6841            0.532    -5.045   6.346703e-07\n",
            "95 per intervals\n",
            "   LowerBound  UpperBound\n",
            "0     13.7538     27.2098\n",
            "1     -3.7481     -1.6201\n",
            "____________________________________________________\n",
            "RMSE =  8.04071109524196\n",
            "R2 Score =  0.12442145175894637\n",
            "Adjusted R2 = 0.12268419273465858\n",
            "   Coefficients  Standard Errors  t values  Probabilities\n",
            "0       -3.7779            0.944    -4.002   7.221718e-05\n",
            "1        0.1078            0.013     8.463   2.220446e-16\n",
            "95 per intervals\n",
            "   LowerBound  UpperBound\n",
            "0     -5.6659     -1.8899\n",
            "1      0.0818      0.1338\n",
            "____________________________________________________\n",
            "RMSE =  7.94961118389392\n",
            "R2 Score =  0.1441493749253987\n",
            "Adjusted R2 = 0.1424512586058062\n",
            "   Coefficients  Standard Errors  t values  Probabilities\n",
            "0        9.4993            0.730    13.006            0.0\n",
            "1       -1.5509            0.168    -9.213            0.0\n",
            "95 per intervals\n",
            "   LowerBound  UpperBound\n",
            "0      8.0393     10.9593\n",
            "1     -1.8869     -1.2149\n",
            "____________________________________________________\n",
            "RMSE =  6.704463080224447\n",
            "R2 Score =  0.39125668674998915\n",
            "Adjusted R2 = 0.3900488627157629\n",
            "   Coefficients  Standard Errors  t values  Probabilities\n",
            "0       -2.2872            0.443    -5.157   3.605846e-07\n",
            "1        0.6179            0.034    17.998   0.000000e+00\n",
            "95 per intervals\n",
            "   LowerBound  UpperBound\n",
            "0     -3.1732     -1.4012\n",
            "1      0.5499      0.6859\n",
            "____________________________________________________\n",
            "RMSE =  6.9830596293175\n",
            "R2 Score =  0.3396142433788122\n",
            "Adjusted R2 = 0.33830395417916703\n",
            "   Coefficients  Standard Errors  t values  Probabilities\n",
            "0       -8.5284            0.816   -10.454            0.0\n",
            "1        0.0297            0.002    16.099            0.0\n",
            "95 per intervals\n",
            "   LowerBound  UpperBound\n",
            "0    -10.1604     -6.8964\n",
            "1      0.0257      0.0337\n",
            "____________________________________________________\n",
            "RMSE =  8.223911228666797\n",
            "R2 Score =  0.0840684389437365\n",
            "Adjusted R2 = 0.08225111441783117\n",
            "   Coefficients  Standard Errors  t values  Probabilities\n",
            "0      -17.6469            3.147    -5.607   3.395255e-08\n",
            "1        1.1520            0.169     6.801   2.942935e-11\n",
            "95 per intervals\n",
            "   LowerBound  UpperBound\n",
            "0    -23.9409    -11.3529\n",
            "1      0.8140      1.4900\n",
            "____________________________________________________\n",
            "RMSE =  7.930431041055408\n",
            "R2 Score =  0.1482742394241312\n",
            "Adjusted R2 = 0.14658430735949657\n",
            "   Coefficients  Standard Errors  t values  Probabilities\n",
            "0       16.5535            1.426    11.609            0.0\n",
            "1       -0.0363            0.004    -9.367            0.0\n",
            "95 per intervals\n",
            "   LowerBound  UpperBound\n",
            "0     13.7015     19.4055\n",
            "1     -0.0443     -0.0283\n",
            "____________________________________________________\n",
            "RMSE =  7.6492986961900336\n",
            "R2 Score =  0.2075909325343357\n",
            "Adjusted R2 = 0.20601869232111014\n",
            "   Coefficients  Standard Errors  t values  Probabilities\n",
            "0       -3.3305            0.694    -4.801       0.000002\n",
            "1        0.5488            0.048    11.491       0.000000\n",
            "95 per intervals\n",
            "   LowerBound  UpperBound\n",
            "0     -4.7185     -1.9425\n",
            "1      0.4528      0.6448\n",
            "____________________________________________________\n",
            "RMSE =  7.918754674819499\n",
            "R2 Score =  0.15078046904975706\n",
            "Adjusted R2 = 0.14909550966295104\n",
            "   Coefficients  Standard Errors  t values  Probabilities\n",
            "0       11.7965            0.934    12.628            0.0\n",
            "1       -0.3632            0.038    -9.460            0.0\n",
            "95 per intervals\n",
            "   LowerBound  UpperBound\n",
            "0      9.9285     13.6645\n",
            "1     -0.4392     -0.2872\n",
            "____________________________________________________\n"
          ],
          "name": "stdout"
        }
      ]
    },
    {
      "cell_type": "code",
      "metadata": {
        "id": "A_KVmYSUfsj-"
      },
      "source": [
        "import seaborn as sns \n",
        "sns.pairplot(df, )"
      ],
      "execution_count": null,
      "outputs": []
    },
    {
      "cell_type": "code",
      "metadata": {
        "colab": {
          "base_uri": "https://localhost:8080/"
        },
        "id": "_eTWQrnJiGy4",
        "outputId": "86ee00c1-41e1-4a3c-b62b-de1b892ea31a"
      },
      "source": [
        "lr.fit(X,y)\n",
        "y_predict = lr.predict(X) \n",
        "summary(X,y, y_predict, lr)"
      ],
      "execution_count": 42,
      "outputs": [
        {
          "output_type": "stream",
          "text": [
            "RMSE =  6.349493616836943\n",
            "R2 Score =  0.45401038980421504\n",
            "Adjusted R2 = 0.4395838350632695\n",
            "    Coefficients  Standard Errors  t values  Probabilities\n",
            "0        17.0332            7.235     2.354   1.894909e-02\n",
            "1         0.0449            0.019     2.394   1.702489e-02\n",
            "2        -0.0639            0.083    -0.766   4.442940e-01\n",
            "3        -0.7491            1.180    -0.635   5.258670e-01\n",
            "4       -10.3135            5.276    -1.955   5.115200e-02\n",
            "5         0.4301            0.613     0.702   4.830888e-01\n",
            "6         0.0015            0.018     0.081   9.354878e-01\n",
            "7        -0.9872            0.282    -3.503   5.022039e-04\n",
            "8         0.5882            0.088     6.680   6.460454e-11\n",
            "9        -0.0038            0.005    -0.733   4.637927e-01\n",
            "10       -0.2711            0.186    -1.454   1.466113e-01\n",
            "11       -0.0075            0.004    -2.052   4.070233e-02\n",
            "12        0.1262            0.076     1.667   9.620842e-02\n",
            "13       -0.1989            0.061    -3.287   1.086810e-03\n",
            "95 per intervals\n",
            "    LowerBound  UpperBound\n",
            "0       2.5632     31.5032\n",
            "1       0.0069      0.0829\n",
            "2      -0.2299      0.1021\n",
            "3      -3.1091      1.6109\n",
            "4     -20.8655      0.2385\n",
            "5      -0.7959      1.6561\n",
            "6      -0.0345      0.0375\n",
            "7      -1.5512     -0.4232\n",
            "8       0.4122      0.7642\n",
            "9      -0.0138      0.0062\n",
            "10     -0.6431      0.1009\n",
            "11     -0.0155      0.0005\n",
            "12     -0.0258      0.2782\n",
            "13     -0.3209     -0.0769\n"
          ],
          "name": "stdout"
        }
      ]
    },
    {
      "cell_type": "code",
      "metadata": {
        "id": "l-BTTuHSc150"
      },
      "source": [
        "multi_wts = lr.coef_.T"
      ],
      "execution_count": 43,
      "outputs": []
    },
    {
      "cell_type": "code",
      "metadata": {
        "colab": {
          "base_uri": "https://localhost:8080/",
          "height": 283
        },
        "id": "OG3hxjswc9or",
        "outputId": "07e1253a-1cb0-4a31-e794-545a504b496f"
      },
      "source": [
        "plt.plot(single_wts, multi_wts)"
      ],
      "execution_count": 44,
      "outputs": [
        {
          "output_type": "execute_result",
          "data": {
            "text/plain": [
              "[<matplotlib.lines.Line2D at 0x7f4f10538210>]"
            ]
          },
          "metadata": {
            "tags": []
          },
          "execution_count": 44
        },
        {
          "output_type": "display_data",
          "data": {
            "image/png": "[encoded data removed]",
            "text/plain": [
              "<Figure size 432x288 with 1 Axes>"
            ]
          },
          "metadata": {
            "tags": [],
            "needs_background": "light"
          }
        }
      ]
    },
    {
      "cell_type": "code",
      "metadata": {
        "colab": {
          "base_uri": "https://localhost:8080/",
          "height": 317
        },
        "id": "7cwkrZjAM3P0",
        "outputId": "3452edf4-8d9e-4091-ce6c-903a7c883e6e"
      },
      "source": [
        "sns.regplot(x=y_predict, y= y_predict - y, lowess=True)"
      ],
      "execution_count": 45,
      "outputs": [
        {
          "output_type": "stream",
          "text": [
            "/usr/local/lib/python3.7/dist-packages/statsmodels/tools/_testing.py:19: FutureWarning: pandas.util.testing is deprecated. Use the functions in the public API at pandas.testing instead.\n",
            "  import pandas.util.testing as tm\n"
          ],
          "name": "stderr"
        },
        {
          "output_type": "execute_result",
          "data": {
            "text/plain": [
              "<matplotlib.axes._subplots.AxesSubplot at 0x7f4f10437a90>"
            ]
          },
          "metadata": {
            "tags": []
          },
          "execution_count": 45
        },
        {
          "output_type": "display_data",
          "data": {
            "image/png": "[encoded data removed]",
            "text/plain": [
              "<Figure size 432x288 with 1 Axes>"
            ]
          },
          "metadata": {
            "tags": [],
            "needs_background": "light"
          }
        }
      ]
    },
    {
      "cell_type": "code",
      "metadata": {
        "colab": {
          "base_uri": "https://localhost:8080/"
        },
        "id": "CmSdgn1LdDCp",
        "outputId": "1f8c5617-77bb-405e-cfc6-be53e7ff6f5a"
      },
      "source": [
        "for i in range(X.shape[1]):\n",
        "  Xtemp = X[:,i].reshape(-1,1)\n",
        "  Xtemp = np.column_stack((Xtemp,Xtemp**2, Xtemp**3))\n",
        "  lr.fit(Xtemp, y) \n",
        "  y_predict = lr.predict(Xtemp) \n",
        "  summary(Xtemp,y,y_predict,lr)   \n",
        "  print('_________________________________________________________')"
      ],
      "execution_count": 38,
      "outputs": [
        {
          "output_type": "stream",
          "text": [
            "RMSE =  8.12656177134114\n",
            "R2 Score =  0.21770488699021706\n",
            "Adjusted R2 = 0.21302981659374431\n",
            "   Coefficients  Standard Errors  t values  Probabilities\n",
            "0       25.1905            0.435    57.846   0.000000e+00\n",
            "1       -1.1364            0.144    -7.868   2.242651e-14\n",
            "2        0.0238            0.007     3.494   5.184482e-04\n",
            "3       -0.0001            0.000    -2.242   2.541096e-02\n",
            "95 per intervals\n",
            "   LowerBound  UpperBound\n",
            "0     24.3205     26.0605\n",
            "1     -1.4244     -0.8484\n",
            "2      0.0098      0.0378\n",
            "3     -0.0001     -0.0001\n",
            "_________________________________________________________\n",
            "RMSE =  8.396230969814876\n",
            "R2 Score =  0.16492460149792232\n",
            "Adjusted R2 = 0.15993411106862698\n",
            "   Coefficients  Standard Errors  t values  Probabilities\n",
            "0       20.4486            0.436    46.905   0.000000e+00\n",
            "1        0.6434            0.111     5.819   1.055518e-08\n",
            "2       -0.0168            0.004    -4.313   1.941865e-05\n",
            "3        0.0001            0.000     3.978   7.981118e-05\n",
            "95 per intervals\n",
            "   LowerBound  UpperBound\n",
            "0     19.5766     21.3206\n",
            "1      0.4214      0.8654\n",
            "2     -0.0248     -0.0088\n",
            "3      0.0001      0.0001\n",
            "_________________________________________________________\n",
            "RMSE =  7.813406655875142\n",
            "R2 Score =  0.2768343456208131\n",
            "Adjusted R2 = 0.2725126385229295\n",
            "   Coefficients  Standard Errors  t values  Probabilities\n",
            "0       37.0802            1.663    22.293   0.000000e+00\n",
            "1       -2.8070            0.509    -5.511   5.713973e-08\n",
            "2        0.1405            0.042     3.380   7.807276e-04\n",
            "3       -0.0024            0.001    -2.373   1.802575e-02\n",
            "95 per intervals\n",
            "   LowerBound  UpperBound\n",
            "0     33.7542     40.4062\n",
            "1     -3.8250     -1.7890\n",
            "2      0.0565      0.2245\n",
            "3     -0.0044     -0.0004\n",
            "_________________________________________________________\n",
            "RMSE =  9.046178471340925\n",
            "R2 Score =  0.030635214618155215\n",
            "Adjusted R2 = 0.024842197972447022\n",
            "   Coefficients  Standard Errors      t values  Probabilities\n",
            "0  2.207150e+01            0.418  5.274200e+01            0.0\n",
            "1 -6.256356e+13            0.530 -1.179569e+14            0.0\n",
            "2  3.128178e+13            0.530  5.897845e+13            0.0\n",
            "3  3.128178e+13            0.530  5.897845e+13            0.0\n",
            "95 per intervals\n",
            "     LowerBound    UpperBound\n",
            "0  2.123550e+01  2.290750e+01\n",
            "1 -6.256356e+13 -6.256356e+13\n",
            "2  3.128178e+13  3.128178e+13\n",
            "3  3.128178e+13  3.128178e+13\n",
            "_________________________________________________________\n",
            "RMSE =  8.24945262929823\n",
            "R2 Score =  0.19386606869686562\n",
            "Adjusted R2 = 0.1890485352428628\n",
            "   Coefficients  Standard Errors  t values  Probabilities\n",
            "0      -22.4864           38.520    -0.584       0.559648\n",
            "1      315.0960          195.100     1.615       0.106928\n",
            "2     -615.8267          320.476    -1.922       0.055222\n",
            "3      350.1860          170.923     2.049       0.041002\n",
            "95 per intervals\n",
            "   LowerBound  UpperBound\n",
            "0    -99.5264     54.5536\n",
            "1    -75.1040    705.2960\n",
            "2  -1256.7787     25.1253\n",
            "3      8.3400    692.0320\n",
            "_________________________________________________________\n",
            "RMSE =  6.086142435718217\n",
            "R2 Score =  0.561225722635539\n",
            "Adjusted R2 = 0.5586035655994965\n",
            "   Coefficients  Standard Errors  t values  Probabilities\n",
            "0      241.3108           47.327     5.099   4.853140e-07\n",
            "1     -109.3906           22.969    -4.763   2.505427e-06\n",
            "2       16.4910            3.675     4.487   8.952479e-06\n",
            "3       -0.7404            0.193    -3.827   1.461903e-04\n",
            "95 per intervals\n",
            "   LowerBound  UpperBound\n",
            "0    146.6568    335.9648\n",
            "1   -155.3286    -63.4526\n",
            "2      9.1410     23.8410\n",
            "3     -1.1264     -0.3544\n",
            "_________________________________________________________\n",
            "RMSE =  8.438111822458122\n",
            "R2 Score =  0.15657302205435308\n",
            "Adjusted R2 = 0.15153262178774562\n",
            "   Coefficients  Standard Errors  t values  Probabilities\n",
            "0       28.9311            2.992     9.668       0.000000\n",
            "1       -0.1224            0.201    -0.608       0.543576\n",
            "2        0.0024            0.004     0.599       0.549377\n",
            "3       -0.0000            0.000    -1.017       0.309690\n",
            "95 per intervals\n",
            "   LowerBound  UpperBound\n",
            "0     22.9471     34.9151\n",
            "1     -0.5244      0.2796\n",
            "2     -0.0056      0.0104\n",
            "3     -0.0000      0.0000\n",
            "_________________________________________________________\n",
            "RMSE =  8.69214896699611\n",
            "R2 Score =  0.10502427275633675\n",
            "Adjusted R2 = 0.09967581223496025\n",
            "   Coefficients  Standard Errors  t values  Probabilities\n",
            "0        7.0379            2.911     2.417       0.015987\n",
            "1        8.5928            2.066     4.158       0.000038\n",
            "2       -1.2495            0.412    -3.030       0.002569\n",
            "3        0.0560            0.024     2.307       0.021463\n",
            "95 per intervals\n",
            "   LowerBound  UpperBound\n",
            "0      1.2159     12.8599\n",
            "1      4.4608     12.7248\n",
            "2     -2.0735     -0.4255\n",
            "3      0.0080      0.1040\n",
            "_________________________________________________________\n",
            "RMSE =  8.33688534044944\n",
            "R2 Score =  0.17668772089694773\n",
            "Adjusted R2 = 0.17176752799394146\n",
            "   Coefficients  Standard Errors  t values  Probabilities\n",
            "0       30.2513            2.568    11.781       0.000000\n",
            "1       -3.7995            1.307    -2.907       0.003815\n",
            "2        0.6163            0.186     3.313       0.000991\n",
            "3       -0.0201            0.006    -3.514       0.000482\n",
            "95 per intervals\n",
            "   LowerBound  UpperBound\n",
            "0     25.1153     35.3873\n",
            "1     -6.4135     -1.1855\n",
            "2      0.2443      0.9883\n",
            "3     -0.0321     -0.0081\n",
            "_________________________________________________________\n",
            "RMSE =  8.082816433815776\n",
            "R2 Score =  0.2261044184844263\n",
            "Adjusted R2 = 0.22147954449130536\n",
            "   Coefficients  Standard Errors    t values  Probabilities\n",
            "0       52.2160            0.000  503255.415   0.000000e+00\n",
            "1       -0.1635            0.013     -12.697   0.000000e+00\n",
            "2        0.0003            0.000       5.117   4.426582e-07\n",
            "3       -0.0000            0.000      -3.436   6.384747e-04\n",
            "95 per intervals\n",
            "   LowerBound  UpperBound\n",
            "0     52.2160     52.2160\n",
            "1     -0.1895     -0.1375\n",
            "2      0.0003      0.0003\n",
            "3     -0.0000      0.0000\n",
            "_________________________________________________________\n",
            "RMSE =  7.867156026778706\n",
            "R2 Score =  0.266850635471385\n",
            "Adjusted R2 = 0.2624692647670307\n",
            "   Coefficients  Standard Errors  t values  Probabilities\n",
            "0      312.2864          152.487     2.048       0.041084\n",
            "1      -48.6911           26.884    -1.811       0.070718\n",
            "2        2.8400            1.564     1.816       0.070017\n",
            "3       -0.0569            0.030    -1.892       0.059009\n",
            "95 per intervals\n",
            "   LowerBound  UpperBound\n",
            "0      7.3124    617.2604\n",
            "1   -102.4591      5.0769\n",
            "2     -0.2880      5.9680\n",
            "3     -0.1169      0.0031\n",
            "_________________________________________________________\n",
            "RMSE =  8.650699743213677\n",
            "R2 Score =  0.1135394515839131\n",
            "Adjusted R2 = 0.10824187858541057\n",
            "   Coefficients  Standard Errors   t values  Probabilities\n",
            "0       12.5981            0.001  17236.907       0.000000\n",
            "1       -0.0170            0.038     -0.447       0.654988\n",
            "2        0.0002            0.000      0.843       0.399370\n",
            "3       -0.0000            0.000     -0.584       0.559761\n",
            "95 per intervals\n",
            "   LowerBound  UpperBound\n",
            "0     12.5961     12.6001\n",
            "1     -0.0930      0.0590\n",
            "2      0.0002      0.0002\n",
            "3     -0.0000      0.0000\n",
            "_________________________________________________________\n",
            "RMSE =  5.374416277067973\n",
            "R2 Score =  0.6578476405895719\n",
            "Adjusted R2 = 0.6558029053739718\n",
            "   Coefficients  Standard Errors  t values  Probabilities\n",
            "0       48.6496            1.435    33.909   0.000000e+00\n",
            "1       -3.8656            0.329   -11.757   0.000000e+00\n",
            "2        0.1487            0.021     6.983   9.177548e-12\n",
            "3       -0.0020            0.000    -5.013   7.428441e-07\n",
            "95 per intervals\n",
            "   LowerBound  UpperBound\n",
            "0     45.7796     51.5196\n",
            "1     -4.5236     -3.2076\n",
            "2      0.1067      0.1907\n",
            "3     -0.0020     -0.0020\n",
            "_________________________________________________________\n"
          ],
          "name": "stdout"
        }
      ]
    },
    {
      "cell_type": "markdown",
      "metadata": {
        "id": "x1YLFP0fNYfI"
      },
      "source": [
        "#Q15 solutions"
      ]
    },
    {
      "cell_type": "markdown",
      "metadata": {
        "id": "46JpBMWELfMr"
      },
      "source": [
        "a) In single plots CHAS can be neglected since it has a relatively higher p value, other predictors show both  positive and negative relations with the target \n",
        "\n",
        "b)Null hypothesis can be rejected for zn, dis, rad, black and medv\n",
        "also still some predictors have both +ve and -ve relations but the coefficients have change drastically with even changes in sign from previous result \n",
        "\n",
        "c) There is definitely some non linearity in data as seen from residual vs prediciton plot and also the polynomial fits perform better than linear fits"
      ]
    },
    {
      "cell_type": "code",
      "metadata": {
        "id": "bAelyb6Qf5ld"
      },
      "source": [
        ""
      ],
      "execution_count": null,
      "outputs": []
    }
  ]
}