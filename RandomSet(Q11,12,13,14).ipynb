{
  "nbformat": 4,
  "nbformat_minor": 0,
  "metadata": {
    "colab": {
      "name": "RandomSet(Q11,12,13,14).ipynb",
      "provenance": [],
      "authorship_tag": "ABX9TyOdlXvbRwjwttGOtTMGwT3Y",
      "include_colab_link": true
    },
    "kernelspec": {
      "name": "python3",
      "display_name": "Python 3"
    }
  },
  "cells": [
    {
      "cell_type": "markdown",
      "metadata": {
        "id": "view-in-github",
        "colab_type": "text"
      },
      "source": [
        "<a href=\"https://colab.research.google.com/github/PhantomBlade009/ISLR_LinReg_Solutions/blob/main/RandomSet(Q11%2C12%2C13%2C14).ipynb\" target=\"_parent\"><img src=\"https://colab.research.google.com/assets/colab-badge.svg\" alt=\"Open In Colab\"/></a>"
      ]
    },
    {
      "cell_type": "code",
      "metadata": {
        "id": "ObtoPEjOfS4K",
        "colab": {
          "base_uri": "https://localhost:8080/"
        },
        "outputId": "f6d30080-db98-4cfa-db9d-74f6b23c5ef6"
      },
      "source": [
        "import numpy as np \n",
        "import pandas as pd \n",
        "import matplotlib.pyplot as plt\n",
        "import seaborn as sns \n",
        "import statsmodels.api as sm"
      ],
      "execution_count": 15,
      "outputs": [
        {
          "output_type": "stream",
          "text": [
            "/usr/local/lib/python3.7/dist-packages/statsmodels/tools/_testing.py:19: FutureWarning: pandas.util.testing is deprecated. Use the functions in the public API at pandas.testing instead.\n",
            "  import pandas.util.testing as tm\n"
          ],
          "name": "stderr"
        }
      ]
    },
    {
      "cell_type": "markdown",
      "metadata": {
        "id": "IwDV1vKKpSU4"
      },
      "source": [
        "#Q11"
      ]
    },
    {
      "cell_type": "code",
      "metadata": {
        "colab": {
          "base_uri": "https://localhost:8080/"
        },
        "id": "xgcm3fgpiiDk",
        "outputId": "17a80938-b20e-4835-94cc-5d417d2ff1cf"
      },
      "source": [
        "X = np.random.randn(100).reshape(-1,1)\n",
        "y = (2*X +np.random.randn(100).reshape(-1,1)).reshape(-1,1)\n",
        "print(X.shape, y.shape)"
      ],
      "execution_count": 35,
      "outputs": [
        {
          "output_type": "stream",
          "text": [
            "(100, 1) (100, 1)\n"
          ],
          "name": "stdout"
        }
      ]
    },
    {
      "cell_type": "code",
      "metadata": {
        "colab": {
          "base_uri": "https://localhost:8080/"
        },
        "id": "Nw6U-biRi22q",
        "outputId": "71d02cc4-e8a9-456e-a9d5-38413cc1b8a7"
      },
      "source": [
        "model = sm.OLS(y,X).fit() \n",
        "print(model.summary())"
      ],
      "execution_count": 36,
      "outputs": [
        {
          "output_type": "stream",
          "text": [
            "                                 OLS Regression Results                                \n",
            "=======================================================================================\n",
            "Dep. Variable:                      y   R-squared (uncentered):                   0.827\n",
            "Model:                            OLS   Adj. R-squared (uncentered):              0.826\n",
            "Method:                 Least Squares   F-statistic:                              474.8\n",
            "Date:                Tue, 13 Apr 2021   Prob (F-statistic):                    1.48e-39\n",
            "Time:                        14:22:07   Log-Likelihood:                         -149.59\n",
            "No. Observations:                 100   AIC:                                      301.2\n",
            "Df Residuals:                      99   BIC:                                      303.8\n",
            "Df Model:                           1                                                  \n",
            "Covariance Type:            nonrobust                                                  \n",
            "==============================================================================\n",
            "                 coef    std err          t      P>|t|      [0.025      0.975]\n",
            "------------------------------------------------------------------------------\n",
            "x1             2.3359      0.107     21.789      0.000       2.123       2.549\n",
            "==============================================================================\n",
            "Omnibus:                        0.864   Durbin-Watson:                   1.908\n",
            "Prob(Omnibus):                  0.649   Jarque-Bera (JB):                0.883\n",
            "Skew:                          -0.054   Prob(JB):                        0.643\n",
            "Kurtosis:                       2.553   Cond. No.                         1.00\n",
            "==============================================================================\n",
            "\n",
            "Warnings:\n",
            "[1] Standard Errors assume that the covariance matrix of the errors is correctly specified.\n"
          ],
          "name": "stdout"
        }
      ]
    },
    {
      "cell_type": "code",
      "metadata": {
        "colab": {
          "base_uri": "https://localhost:8080/"
        },
        "id": "-B0zCIJakLbh",
        "outputId": "284fd1fa-795d-42ee-fa60-506f2529d319"
      },
      "source": [
        "model2 = sm.OLS(X,y).fit()\n",
        "print(model2.summary())"
      ],
      "execution_count": 37,
      "outputs": [
        {
          "output_type": "stream",
          "text": [
            "                                 OLS Regression Results                                \n",
            "=======================================================================================\n",
            "Dep. Variable:                      y   R-squared (uncentered):                   0.827\n",
            "Model:                            OLS   Adj. R-squared (uncentered):              0.826\n",
            "Method:                 Least Squares   F-statistic:                              474.8\n",
            "Date:                Tue, 13 Apr 2021   Prob (F-statistic):                    1.48e-39\n",
            "Time:                        14:22:09   Log-Likelihood:                         -55.278\n",
            "No. Observations:                 100   AIC:                                      112.6\n",
            "Df Residuals:                      99   BIC:                                      115.2\n",
            "Df Model:                           1                                                  \n",
            "Covariance Type:            nonrobust                                                  \n",
            "==============================================================================\n",
            "                 coef    std err          t      P>|t|      [0.025      0.975]\n",
            "------------------------------------------------------------------------------\n",
            "x1             0.3542      0.016     21.789      0.000       0.322       0.386\n",
            "==============================================================================\n",
            "Omnibus:                        0.619   Durbin-Watson:                   1.852\n",
            "Prob(Omnibus):                  0.734   Jarque-Bera (JB):                0.749\n",
            "Skew:                           0.106   Prob(JB):                        0.688\n",
            "Kurtosis:                       2.633   Cond. No.                         1.00\n",
            "==============================================================================\n",
            "\n",
            "Warnings:\n",
            "[1] Standard Errors assume that the covariance matrix of the errors is correctly specified.\n"
          ],
          "name": "stdout"
        }
      ]
    },
    {
      "cell_type": "code",
      "metadata": {
        "id": "HOi6t3oqkfVI"
      },
      "source": [
        "Xnew = sm.add_constant(X)"
      ],
      "execution_count": 38,
      "outputs": []
    },
    {
      "cell_type": "code",
      "metadata": {
        "colab": {
          "base_uri": "https://localhost:8080/"
        },
        "id": "9dxd6E4-mMjZ",
        "outputId": "0f7a56d3-029d-42c0-d555-6b27de3eb4ab"
      },
      "source": [
        "model3 = sm.OLS(y,Xnew).fit()\n",
        "print(model3.summary())"
      ],
      "execution_count": 39,
      "outputs": [
        {
          "output_type": "stream",
          "text": [
            "                            OLS Regression Results                            \n",
            "==============================================================================\n",
            "Dep. Variable:                      y   R-squared:                       0.832\n",
            "Model:                            OLS   Adj. R-squared:                  0.831\n",
            "Method:                 Least Squares   F-statistic:                     486.3\n",
            "Date:                Tue, 13 Apr 2021   Prob (F-statistic):           8.87e-40\n",
            "Time:                        14:22:15   Log-Likelihood:                -148.13\n",
            "No. Observations:                 100   AIC:                             300.3\n",
            "Df Residuals:                      98   BIC:                             305.5\n",
            "Df Model:                           1                                         \n",
            "Covariance Type:            nonrobust                                         \n",
            "==============================================================================\n",
            "                 coef    std err          t      P>|t|      [0.025      0.975]\n",
            "------------------------------------------------------------------------------\n",
            "const         -0.1835      0.108     -1.704      0.091      -0.397       0.030\n",
            "x1             2.3443      0.106     22.053      0.000       2.133       2.555\n",
            "==============================================================================\n",
            "Omnibus:                        0.898   Durbin-Watson:                   1.963\n",
            "Prob(Omnibus):                  0.638   Jarque-Bera (JB):                0.903\n",
            "Skew:                          -0.054   Prob(JB):                        0.637\n",
            "Kurtosis:                       2.547   Cond. No.                         1.05\n",
            "==============================================================================\n",
            "\n",
            "Warnings:\n",
            "[1] Standard Errors assume that the covariance matrix of the errors is correctly specified.\n"
          ],
          "name": "stdout"
        }
      ]
    },
    {
      "cell_type": "code",
      "metadata": {
        "id": "ADofw2YHmzDA"
      },
      "source": [
        "ynew = sm.add_constant(y)"
      ],
      "execution_count": 40,
      "outputs": []
    },
    {
      "cell_type": "code",
      "metadata": {
        "colab": {
          "base_uri": "https://localhost:8080/"
        },
        "id": "gwue2kzcm5Fw",
        "outputId": "316874ee-0b89-4f8f-97a7-38d541785473"
      },
      "source": [
        "model4 = sm.OLS(X, ynew).fit()\n",
        "print(model4.summary())"
      ],
      "execution_count": 41,
      "outputs": [
        {
          "output_type": "stream",
          "text": [
            "                            OLS Regression Results                            \n",
            "==============================================================================\n",
            "Dep. Variable:                      y   R-squared:                       0.832\n",
            "Model:                            OLS   Adj. R-squared:                  0.831\n",
            "Method:                 Least Squares   F-statistic:                     486.3\n",
            "Date:                Tue, 13 Apr 2021   Prob (F-statistic):           8.87e-40\n",
            "Time:                        14:22:18   Log-Likelihood:                -53.749\n",
            "No. Observations:                 100   AIC:                             111.5\n",
            "Df Residuals:                      98   BIC:                             116.7\n",
            "Df Model:                           1                                         \n",
            "Covariance Type:            nonrobust                                         \n",
            "==============================================================================\n",
            "                 coef    std err          t      P>|t|      [0.025      0.975]\n",
            "------------------------------------------------------------------------------\n",
            "const          0.0730      0.042      1.744      0.084      -0.010       0.156\n",
            "x1             0.3550      0.016     22.053      0.000       0.323       0.387\n",
            "==============================================================================\n",
            "Omnibus:                        0.633   Durbin-Watson:                   1.910\n",
            "Prob(Omnibus):                  0.729   Jarque-Bera (JB):                0.759\n",
            "Skew:                           0.105   Prob(JB):                        0.684\n",
            "Kurtosis:                       2.628   Cond. No.                         2.60\n",
            "==============================================================================\n",
            "\n",
            "Warnings:\n",
            "[1] Standard Errors assume that the covariance matrix of the errors is correctly specified.\n"
          ],
          "name": "stdout"
        }
      ]
    },
    {
      "cell_type": "markdown",
      "metadata": {
        "id": "PHOJfsWApA8H"
      },
      "source": [
        "All results are statistically significant and t values corresponding to model and model2, model3 and model4 are same suggesting the conjecture that has been given in the question"
      ]
    },
    {
      "cell_type": "markdown",
      "metadata": {
        "id": "0hrBTuaYpV83"
      },
      "source": [
        "#Q12"
      ]
    },
    {
      "cell_type": "code",
      "metadata": {
        "id": "uepezgE7pdwt"
      },
      "source": [
        "# Part a is a proof \n",
        "# For part b solution of question 11 suffices \n",
        "# For part c see below"
      ],
      "execution_count": 42,
      "outputs": []
    },
    {
      "cell_type": "code",
      "metadata": {
        "colab": {
          "base_uri": "https://localhost:8080/"
        },
        "id": "pqla4mijr1lK",
        "outputId": "3df4bc6c-de72-461e-dbfb-18b452f1424a"
      },
      "source": [
        "X = np.random.randn(100).reshape(-1,1) \n",
        "y = X + 0.01*np.random.randn(100).reshape(-1,1)\n",
        "print(X.shape, y.shape)"
      ],
      "execution_count": 56,
      "outputs": [
        {
          "output_type": "stream",
          "text": [
            "(100, 1) (100, 1)\n"
          ],
          "name": "stdout"
        }
      ]
    },
    {
      "cell_type": "code",
      "metadata": {
        "colab": {
          "base_uri": "https://localhost:8080/"
        },
        "id": "VEEJZ8EKsti5",
        "outputId": "9d2194d8-9fca-4f1b-e5a4-f7804ada7521"
      },
      "source": [
        "model1 = sm.OLS(y,X).fit()\n",
        "print(model1.summary())"
      ],
      "execution_count": 57,
      "outputs": [
        {
          "output_type": "stream",
          "text": [
            "                                 OLS Regression Results                                \n",
            "=======================================================================================\n",
            "Dep. Variable:                      y   R-squared (uncentered):                   1.000\n",
            "Model:                            OLS   Adj. R-squared (uncentered):              1.000\n",
            "Method:                 Least Squares   F-statistic:                          9.063e+05\n",
            "Date:                Tue, 13 Apr 2021   Prob (F-statistic):                   6.32e-198\n",
            "Time:                        14:58:24   Log-Likelihood:                          303.49\n",
            "No. Observations:                 100   AIC:                                     -605.0\n",
            "Df Residuals:                      99   BIC:                                     -602.4\n",
            "Df Model:                           1                                                  \n",
            "Covariance Type:            nonrobust                                                  \n",
            "==============================================================================\n",
            "                 coef    std err          t      P>|t|      [0.025      0.975]\n",
            "------------------------------------------------------------------------------\n",
            "x1             0.9994      0.001    951.981      0.000       0.997       1.001\n",
            "==============================================================================\n",
            "Omnibus:                        0.435   Durbin-Watson:                   1.817\n",
            "Prob(Omnibus):                  0.805   Jarque-Bera (JB):                0.241\n",
            "Skew:                          -0.118   Prob(JB):                        0.887\n",
            "Kurtosis:                       3.044   Cond. No.                         1.00\n",
            "==============================================================================\n",
            "\n",
            "Warnings:\n",
            "[1] Standard Errors assume that the covariance matrix of the errors is correctly specified.\n"
          ],
          "name": "stdout"
        }
      ]
    },
    {
      "cell_type": "code",
      "metadata": {
        "colab": {
          "base_uri": "https://localhost:8080/"
        },
        "id": "a5A4E9NktQ9j",
        "outputId": "e0e1915e-a0ba-406e-972e-68d30fde23f5"
      },
      "source": [
        "model2 = sm.OLS(X,y).fit()\n",
        "print(model2.summary())"
      ],
      "execution_count": 58,
      "outputs": [
        {
          "output_type": "stream",
          "text": [
            "                                 OLS Regression Results                                \n",
            "=======================================================================================\n",
            "Dep. Variable:                      y   R-squared (uncentered):                   1.000\n",
            "Model:                            OLS   Adj. R-squared (uncentered):              1.000\n",
            "Method:                 Least Squares   F-statistic:                          9.063e+05\n",
            "Date:                Tue, 13 Apr 2021   Prob (F-statistic):                   6.32e-198\n",
            "Time:                        14:58:28   Log-Likelihood:                          303.44\n",
            "No. Observations:                 100   AIC:                                     -604.9\n",
            "Df Residuals:                      99   BIC:                                     -602.3\n",
            "Df Model:                           1                                                  \n",
            "Covariance Type:            nonrobust                                                  \n",
            "==============================================================================\n",
            "                 coef    std err          t      P>|t|      [0.025      0.975]\n",
            "------------------------------------------------------------------------------\n",
            "x1             1.0005      0.001    951.981      0.000       0.998       1.003\n",
            "==============================================================================\n",
            "Omnibus:                        0.481   Durbin-Watson:                   1.816\n",
            "Prob(Omnibus):                  0.786   Jarque-Bera (JB):                0.262\n",
            "Skew:                           0.122   Prob(JB):                        0.877\n",
            "Kurtosis:                       3.060   Cond. No.                         1.00\n",
            "==============================================================================\n",
            "\n",
            "Warnings:\n",
            "[1] Standard Errors assume that the covariance matrix of the errors is correctly specified.\n"
          ],
          "name": "stdout"
        }
      ]
    },
    {
      "cell_type": "markdown",
      "metadata": {
        "id": "zgdIXxj61Lxx"
      },
      "source": [
        "As it can be seen above coeeficient corresponding to both regression of Y on X as well as X on Y are same "
      ]
    },
    {
      "cell_type": "markdown",
      "metadata": {
        "id": "KRPvUIzi1VhX"
      },
      "source": [
        "#Q13"
      ]
    },
    {
      "cell_type": "code",
      "metadata": {
        "colab": {
          "base_uri": "https://localhost:8080/"
        },
        "id": "F06Z9j8dtVyR",
        "outputId": "501fbef4-7ceb-4fa7-eda8-60fbf8422f29"
      },
      "source": [
        "X = np.random.randn(100).reshape(-1,1)\n",
        "eps = 0.25*np.random.randn(100).reshape(-1,1)\n",
        "y = -1 + 0.5*X + eps \n",
        "y.shape"
      ],
      "execution_count": 60,
      "outputs": [
        {
          "output_type": "execute_result",
          "data": {
            "text/plain": [
              "(100, 1)"
            ]
          },
          "metadata": {
            "tags": []
          },
          "execution_count": 60
        }
      ]
    },
    {
      "cell_type": "markdown",
      "metadata": {
        "id": "JPYdOuUq25d6"
      },
      "source": [
        "a) Done above  \n",
        "b) Done above  \n",
        "c) Done above, length of y is 100, beta_0 is -1 and beta_1 is 0.5 "
      ]
    },
    {
      "cell_type": "code",
      "metadata": {
        "colab": {
          "base_uri": "https://localhost:8080/"
        },
        "id": "mW47UehO3QNl",
        "outputId": "ca624f83-6cc1-45b5-d209-c55842bacde0"
      },
      "source": [
        "Xtemp = sm.add_constant(X)\n",
        "model = sm.OLS(y,Xtemp).fit()\n",
        "y_predict = model.predict(Xtemp)\n",
        "print(model.summary())"
      ],
      "execution_count": 73,
      "outputs": [
        {
          "output_type": "stream",
          "text": [
            "                            OLS Regression Results                            \n",
            "==============================================================================\n",
            "Dep. Variable:                      y   R-squared:                       0.747\n",
            "Model:                            OLS   Adj. R-squared:                  0.745\n",
            "Method:                 Least Squares   F-statistic:                     289.7\n",
            "Date:                Tue, 13 Apr 2021   Prob (F-statistic):           5.00e-31\n",
            "Time:                        15:49:42   Log-Likelihood:                -6.6712\n",
            "No. Observations:                 100   AIC:                             17.34\n",
            "Df Residuals:                      98   BIC:                             22.55\n",
            "Df Model:                           1                                         \n",
            "Covariance Type:            nonrobust                                         \n",
            "==============================================================================\n",
            "                 coef    std err          t      P>|t|      [0.025      0.975]\n",
            "------------------------------------------------------------------------------\n",
            "const         -0.9808      0.026    -37.493      0.000      -1.033      -0.929\n",
            "x1             0.5242      0.031     17.022      0.000       0.463       0.585\n",
            "==============================================================================\n",
            "Omnibus:                        0.610   Durbin-Watson:                   2.055\n",
            "Prob(Omnibus):                  0.737   Jarque-Bera (JB):                0.293\n",
            "Skew:                          -0.114   Prob(JB):                        0.864\n",
            "Kurtosis:                       3.136   Cond. No.                         1.19\n",
            "==============================================================================\n",
            "\n",
            "Warnings:\n",
            "[1] Standard Errors assume that the covariance matrix of the errors is correctly specified.\n"
          ],
          "name": "stdout"
        }
      ]
    },
    {
      "cell_type": "code",
      "metadata": {
        "colab": {
          "base_uri": "https://localhost:8080/",
          "height": 354
        },
        "id": "AN_IV1sZ3102",
        "outputId": "e074c2cc-2452-4aa8-976e-11a2adee4898"
      },
      "source": [
        "sns.regplot(X, y_predict )\n",
        "sns.regplot(X,y)\n",
        "plt.show()"
      ],
      "execution_count": 74,
      "outputs": [
        {
          "output_type": "stream",
          "text": [
            "/usr/local/lib/python3.7/dist-packages/seaborn/_decorators.py:43: FutureWarning: Pass the following variables as keyword args: x, y. From version 0.12, the only valid positional argument will be `data`, and passing other arguments without an explicit keyword will result in an error or misinterpretation.\n",
            "  FutureWarning\n",
            "/usr/local/lib/python3.7/dist-packages/seaborn/_decorators.py:43: FutureWarning: Pass the following variables as keyword args: x, y. From version 0.12, the only valid positional argument will be `data`, and passing other arguments without an explicit keyword will result in an error or misinterpretation.\n",
            "  FutureWarning\n"
          ],
          "name": "stderr"
        },
        {
          "output_type": "display_data",
          "data": {
            "image/png": "[encoded data removed]",
            "text/plain": [
              "<Figure size 432x288 with 1 Axes>"
            ]
          },
          "metadata": {
            "tags": [],
            "needs_background": "light"
          }
        }
      ]
    },
    {
      "cell_type": "markdown",
      "metadata": {
        "id": "N216SR8Q7XmA"
      },
      "source": [
        "The scatter plot and line plots for both targets and predictions are above, it can be seen the model is an extremely good fit, the predicted values of coefficients is very clode to real values\n"
      ]
    },
    {
      "cell_type": "code",
      "metadata": {
        "colab": {
          "base_uri": "https://localhost:8080/"
        },
        "id": "AoWmjk578oqL",
        "outputId": "e32c8f77-c4fa-4766-ffc0-0c34790ab009"
      },
      "source": [
        "X = np.random.randn(100).reshape(-1,1)\n",
        "eps = 0.05*np.random.randn(100).reshape(-1,1)\n",
        "y = -1 + 0.5*X + eps \n",
        "y.shape"
      ],
      "execution_count": 75,
      "outputs": [
        {
          "output_type": "execute_result",
          "data": {
            "text/plain": [
              "(100, 1)"
            ]
          },
          "metadata": {
            "tags": []
          },
          "execution_count": 75
        }
      ]
    },
    {
      "cell_type": "markdown",
      "metadata": {
        "id": "6jjbiMic8oqX"
      },
      "source": [
        "a) Done above  \n",
        "b) Done above  \n",
        "c) Done above, length of y is 100, beta_0 is -1 and beta_1 is 0.5 "
      ]
    },
    {
      "cell_type": "code",
      "metadata": {
        "colab": {
          "base_uri": "https://localhost:8080/"
        },
        "id": "JEuzvnna8oqa",
        "outputId": "5d042622-4975-4e43-a35b-1550114183f1"
      },
      "source": [
        "Xtemp = sm.add_constant(X)\n",
        "model = sm.OLS(y,Xtemp).fit()\n",
        "y_predict = model.predict(Xtemp)\n",
        "print(model.summary())"
      ],
      "execution_count": 76,
      "outputs": [
        {
          "output_type": "stream",
          "text": [
            "                            OLS Regression Results                            \n",
            "==============================================================================\n",
            "Dep. Variable:                      y   R-squared:                       0.991\n",
            "Model:                            OLS   Adj. R-squared:                  0.990\n",
            "Method:                 Least Squares   F-statistic:                 1.027e+04\n",
            "Date:                Tue, 13 Apr 2021   Prob (F-statistic):          5.15e-101\n",
            "Time:                        15:57:04   Log-Likelihood:                 164.54\n",
            "No. Observations:                 100   AIC:                            -325.1\n",
            "Df Residuals:                      98   BIC:                            -319.9\n",
            "Df Model:                           1                                         \n",
            "Covariance Type:            nonrobust                                         \n",
            "==============================================================================\n",
            "                 coef    std err          t      P>|t|      [0.025      0.975]\n",
            "------------------------------------------------------------------------------\n",
            "const         -1.0041      0.005   -212.675      0.000      -1.013      -0.995\n",
            "x1             0.5037      0.005    101.332      0.000       0.494       0.514\n",
            "==============================================================================\n",
            "Omnibus:                        0.092   Durbin-Watson:                   2.023\n",
            "Prob(Omnibus):                  0.955   Jarque-Bera (JB):                0.245\n",
            "Skew:                           0.048   Prob(JB):                        0.885\n",
            "Kurtosis:                       2.778   Cond. No.                         1.07\n",
            "==============================================================================\n",
            "\n",
            "Warnings:\n",
            "[1] Standard Errors assume that the covariance matrix of the errors is correctly specified.\n"
          ],
          "name": "stdout"
        }
      ]
    },
    {
      "cell_type": "code",
      "metadata": {
        "colab": {
          "base_uri": "https://localhost:8080/",
          "height": 354
        },
        "id": "q7k5-tPK8oqc",
        "outputId": "21da5b75-6229-4a99-9adb-5709736d2467"
      },
      "source": [
        "sns.regplot(X, y_predict )\n",
        "sns.regplot(X,y)\n",
        "plt.show()"
      ],
      "execution_count": 77,
      "outputs": [
        {
          "output_type": "stream",
          "text": [
            "/usr/local/lib/python3.7/dist-packages/seaborn/_decorators.py:43: FutureWarning: Pass the following variables as keyword args: x, y. From version 0.12, the only valid positional argument will be `data`, and passing other arguments without an explicit keyword will result in an error or misinterpretation.\n",
            "  FutureWarning\n",
            "/usr/local/lib/python3.7/dist-packages/seaborn/_decorators.py:43: FutureWarning: Pass the following variables as keyword args: x, y. From version 0.12, the only valid positional argument will be `data`, and passing other arguments without an explicit keyword will result in an error or misinterpretation.\n",
            "  FutureWarning\n"
          ],
          "name": "stderr"
        },
        {
          "output_type": "display_data",
          "data": {
            "image/png": "[encoded data removed]",
            "text/plain": [
              "<Figure size 432x288 with 1 Axes>"
            ]
          },
          "metadata": {
            "tags": [],
            "needs_background": "light"
          }
        }
      ]
    },
    {
      "cell_type": "markdown",
      "metadata": {
        "id": "xJdbWr4H8_ib"
      },
      "source": [
        "We see that decreasing the noise cause R2 scores and F statistics to increase by a great factor means the model fits even better"
      ]
    },
    {
      "cell_type": "code",
      "metadata": {
        "colab": {
          "base_uri": "https://localhost:8080/"
        },
        "id": "RvqlSw7T88bA",
        "outputId": "ee105d54-0002-4bc3-8359-64d04efbae01"
      },
      "source": [
        "X = np.random.randn(100).reshape(-1,1)\n",
        "eps = 0.5*np.random.randn(100).reshape(-1,1)\n",
        "y = -1 + 0.5*X + eps \n",
        "y.shape"
      ],
      "execution_count": 78,
      "outputs": [
        {
          "output_type": "execute_result",
          "data": {
            "text/plain": [
              "(100, 1)"
            ]
          },
          "metadata": {
            "tags": []
          },
          "execution_count": 78
        }
      ]
    },
    {
      "cell_type": "markdown",
      "metadata": {
        "id": "9TFn_qHf88bC"
      },
      "source": [
        "a) Done above  \n",
        "b) Done above  \n",
        "c) Done above, length of y is 100, beta_0 is -1 and beta_1 is 0.5 "
      ]
    },
    {
      "cell_type": "code",
      "metadata": {
        "colab": {
          "base_uri": "https://localhost:8080/"
        },
        "id": "G_dTWCLy88bD",
        "outputId": "196db90b-165c-4cc1-ff89-fe1328cae6e5"
      },
      "source": [
        "Xtemp = sm.add_constant(X)\n",
        "model = sm.OLS(y,Xtemp).fit()\n",
        "y_predict = model.predict(Xtemp)\n",
        "print(model.summary())"
      ],
      "execution_count": 79,
      "outputs": [
        {
          "output_type": "stream",
          "text": [
            "                            OLS Regression Results                            \n",
            "==============================================================================\n",
            "Dep. Variable:                      y   R-squared:                       0.536\n",
            "Model:                            OLS   Adj. R-squared:                  0.531\n",
            "Method:                 Least Squares   F-statistic:                     113.1\n",
            "Date:                Tue, 13 Apr 2021   Prob (F-statistic):           5.09e-18\n",
            "Time:                        15:58:38   Log-Likelihood:                -72.226\n",
            "No. Observations:                 100   AIC:                             148.5\n",
            "Df Residuals:                      98   BIC:                             153.7\n",
            "Df Model:                           1                                         \n",
            "Covariance Type:            nonrobust                                         \n",
            "==============================================================================\n",
            "                 coef    std err          t      P>|t|      [0.025      0.975]\n",
            "------------------------------------------------------------------------------\n",
            "const         -0.9612      0.050    -19.075      0.000      -1.061      -0.861\n",
            "x1             0.5370      0.050     10.635      0.000       0.437       0.637\n",
            "==============================================================================\n",
            "Omnibus:                        1.342   Durbin-Watson:                   1.902\n",
            "Prob(Omnibus):                  0.511   Jarque-Bera (JB):                0.868\n",
            "Skew:                          -0.196   Prob(JB):                        0.648\n",
            "Kurtosis:                       3.233   Cond. No.                         1.05\n",
            "==============================================================================\n",
            "\n",
            "Warnings:\n",
            "[1] Standard Errors assume that the covariance matrix of the errors is correctly specified.\n"
          ],
          "name": "stdout"
        }
      ]
    },
    {
      "cell_type": "code",
      "metadata": {
        "colab": {
          "base_uri": "https://localhost:8080/",
          "height": 354
        },
        "id": "-38w39h688bE",
        "outputId": "c0a50581-0867-4afe-d722-42bac7d32df7"
      },
      "source": [
        "sns.regplot(X, y_predict )\n",
        "sns.regplot(X,y)\n",
        "plt.show()"
      ],
      "execution_count": 80,
      "outputs": [
        {
          "output_type": "stream",
          "text": [
            "/usr/local/lib/python3.7/dist-packages/seaborn/_decorators.py:43: FutureWarning: Pass the following variables as keyword args: x, y. From version 0.12, the only valid positional argument will be `data`, and passing other arguments without an explicit keyword will result in an error or misinterpretation.\n",
            "  FutureWarning\n",
            "/usr/local/lib/python3.7/dist-packages/seaborn/_decorators.py:43: FutureWarning: Pass the following variables as keyword args: x, y. From version 0.12, the only valid positional argument will be `data`, and passing other arguments without an explicit keyword will result in an error or misinterpretation.\n",
            "  FutureWarning\n"
          ],
          "name": "stderr"
        },
        {
          "output_type": "display_data",
          "data": {
            "image/png": "[encoded data removed]",
            "text/plain": [
              "<Figure size 432x288 with 1 Axes>"
            ]
          },
          "metadata": {
            "tags": [],
            "needs_background": "light"
          }
        }
      ]
    },
    {
      "cell_type": "markdown",
      "metadata": {
        "id": "uzBcegSK9ODq"
      },
      "source": [
        "We see that increasing the noise causes the R2 score and F statistics to decrease drastically causing the model to fit worse"
      ]
    },
    {
      "cell_type": "code",
      "metadata": {
        "colab": {
          "base_uri": "https://localhost:8080/"
        },
        "id": "AR3dl0Qw9kPc",
        "outputId": "501fbef4-7ceb-4fa7-eda8-60fbf8422f29"
      },
      "source": [
        "X = np.random.randn(100).reshape(-1,1)\n",
        "eps = 0.25*np.random.randn(100).reshape(-1,1)\n",
        "y = -1 + 0.5*X + eps \n",
        "y.shape"
      ],
      "execution_count": null,
      "outputs": [
        {
          "output_type": "execute_result",
          "data": {
            "text/plain": [
              "(100, 1)"
            ]
          },
          "metadata": {
            "tags": []
          },
          "execution_count": 60
        }
      ]
    },
    {
      "cell_type": "markdown",
      "metadata": {
        "id": "TYpRf0D09kQB"
      },
      "source": [
        "a) Done above  \n",
        "b) Done above  \n",
        "c) Done above, length of y is 100, beta_0 is -1 and beta_1 is 0.5 "
      ]
    },
    {
      "cell_type": "code",
      "metadata": {
        "colab": {
          "base_uri": "https://localhost:8080/"
        },
        "id": "gvUynvjS9kQC",
        "outputId": "f1c5e74f-b1ba-4d4a-88b0-e966abda015a"
      },
      "source": [
        "Xtemp = np.column_stack((X,X**2))\n",
        "Xtemp = sm.add_constant(Xtemp)\n",
        "model = sm.OLS(y,Xtemp).fit()\n",
        "y_predict = model.predict(Xtemp)\n",
        "print(model.summary())"
      ],
      "execution_count": 81,
      "outputs": [
        {
          "output_type": "stream",
          "text": [
            "                            OLS Regression Results                            \n",
            "==============================================================================\n",
            "Dep. Variable:                      y   R-squared:                       0.544\n",
            "Model:                            OLS   Adj. R-squared:                  0.535\n",
            "Method:                 Least Squares   F-statistic:                     57.97\n",
            "Date:                Tue, 13 Apr 2021   Prob (F-statistic):           2.74e-17\n",
            "Time:                        16:01:21   Log-Likelihood:                -71.282\n",
            "No. Observations:                 100   AIC:                             148.6\n",
            "Df Residuals:                      97   BIC:                             156.4\n",
            "Df Model:                           2                                         \n",
            "Covariance Type:            nonrobust                                         \n",
            "==============================================================================\n",
            "                 coef    std err          t      P>|t|      [0.025      0.975]\n",
            "------------------------------------------------------------------------------\n",
            "const         -0.9109      0.062    -14.623      0.000      -1.035      -0.787\n",
            "x1             0.5534      0.052     10.703      0.000       0.451       0.656\n",
            "x2            -0.0512      0.038     -1.360      0.177      -0.126       0.024\n",
            "==============================================================================\n",
            "Omnibus:                        2.434   Durbin-Watson:                   1.879\n",
            "Prob(Omnibus):                  0.296   Jarque-Bera (JB):                1.813\n",
            "Skew:                          -0.265   Prob(JB):                        0.404\n",
            "Kurtosis:                       3.392   Cond. No.                         2.48\n",
            "==============================================================================\n",
            "\n",
            "Warnings:\n",
            "[1] Standard Errors assume that the covariance matrix of the errors is correctly specified.\n"
          ],
          "name": "stdout"
        }
      ]
    },
    {
      "cell_type": "code",
      "metadata": {
        "colab": {
          "base_uri": "https://localhost:8080/",
          "height": 354
        },
        "id": "K_LjWWUb9kQE",
        "outputId": "f965cc86-2926-4d3d-80c4-42c79933b220"
      },
      "source": [
        "sns.regplot(X, y_predict )\n",
        "sns.regplot(X,y)\n",
        "plt.show()"
      ],
      "execution_count": 82,
      "outputs": [
        {
          "output_type": "stream",
          "text": [
            "/usr/local/lib/python3.7/dist-packages/seaborn/_decorators.py:43: FutureWarning: Pass the following variables as keyword args: x, y. From version 0.12, the only valid positional argument will be `data`, and passing other arguments without an explicit keyword will result in an error or misinterpretation.\n",
            "  FutureWarning\n",
            "/usr/local/lib/python3.7/dist-packages/seaborn/_decorators.py:43: FutureWarning: Pass the following variables as keyword args: x, y. From version 0.12, the only valid positional argument will be `data`, and passing other arguments without an explicit keyword will result in an error or misinterpretation.\n",
            "  FutureWarning\n"
          ],
          "name": "stderr"
        },
        {
          "output_type": "display_data",
          "data": {
            "image/png": "[encoded data removed]",
            "text/plain": [
              "<Figure size 432x288 with 1 Axes>"
            ]
          },
          "metadata": {
            "tags": [],
            "needs_background": "light"
          }
        }
      ]
    },
    {
      "cell_type": "markdown",
      "metadata": {
        "id": "hr33Hse3933X"
      },
      "source": [
        "There is no imporvement from introducing qudratic feature since R2 score and Fstats decrease and also the coefficient corresponding to X**2 can be neglected since p value is high"
      ]
    },
    {
      "cell_type": "markdown",
      "metadata": {
        "id": "TiCsqknGAX1g"
      },
      "source": [
        "#Q14"
      ]
    },
    {
      "cell_type": "code",
      "metadata": {
        "colab": {
          "base_uri": "https://localhost:8080/"
        },
        "id": "LXdVaPs-91po",
        "outputId": "31e0d61f-b355-4cb5-cd83-11265568c971"
      },
      "source": [
        "x1 = np.random.uniform( size=(100,1))\n",
        "x2 = 0.5*x1 + 0.1*np.random.randn(100).reshape(-1,1)\n",
        "y = 2 + 2*x1 + 0.3*x2 + np.random.randn(100).reshape(-1,1)\n",
        "print(x1.shape, x2.shape, y.shape)"
      ],
      "execution_count": 89,
      "outputs": [
        {
          "output_type": "stream",
          "text": [
            "(100, 1) (100, 1) (100, 1)\n"
          ],
          "name": "stdout"
        }
      ]
    },
    {
      "cell_type": "code",
      "metadata": {
        "colab": {
          "base_uri": "https://localhost:8080/",
          "height": 567
        },
        "id": "yhu9wtBVB3pV",
        "outputId": "760962b9-7a5d-4c35-d11b-13e77e638ecc"
      },
      "source": [
        "df = pd.DataFrame(np.column_stack((x1,x2,y)))\n",
        "sns.pairplot(df)"
      ],
      "execution_count": 95,
      "outputs": [
        {
          "output_type": "execute_result",
          "data": {
            "text/plain": [
              "<seaborn.axisgrid.PairGrid at 0x7f4800b4de90>"
            ]
          },
          "metadata": {
            "tags": []
          },
          "execution_count": 95
        },
        {
          "output_type": "display_data",
          "data": {
            "image/png": "[encoded data removed]",
            "text/plain": [
              "<Figure size 540x540 with 12 Axes>"
            ]
          },
          "metadata": {
            "tags": [],
            "needs_background": "light"
          }
        }
      ]
    },
    {
      "cell_type": "code",
      "metadata": {
        "colab": {
          "base_uri": "https://localhost:8080/",
          "height": 286
        },
        "id": "UMw5nOdRC1yX",
        "outputId": "5ba9cd64-06a2-45ff-e952-7a092c61dc3e"
      },
      "source": [
        "sns.heatmap(df.corr())"
      ],
      "execution_count": 96,
      "outputs": [
        {
          "output_type": "execute_result",
          "data": {
            "text/plain": [
              "<matplotlib.axes._subplots.AxesSubplot at 0x7f4801075250>"
            ]
          },
          "metadata": {
            "tags": []
          },
          "execution_count": 96
        },
        {
          "output_type": "display_data",
          "data": {
            "image/png": "[encoded data removed]",
            "text/plain": [
              "<Figure size 432x288 with 2 Axes>"
            ]
          },
          "metadata": {
            "tags": [],
            "needs_background": "light"
          }
        }
      ]
    },
    {
      "cell_type": "code",
      "metadata": {
        "colab": {
          "base_uri": "https://localhost:8080/"
        },
        "id": "1INuYjzyD0xs",
        "outputId": "0e900ea6-b338-40cb-95c9-cf8ca12b7305"
      },
      "source": [
        "X = np.column_stack((x1,x2))\n",
        "X = sm.add_constant(X)\n",
        "model = sm.OLS(y,X).fit()\n",
        "print(model.summary())"
      ],
      "execution_count": 97,
      "outputs": [
        {
          "output_type": "stream",
          "text": [
            "                            OLS Regression Results                            \n",
            "==============================================================================\n",
            "Dep. Variable:                      y   R-squared:                       0.227\n",
            "Model:                            OLS   Adj. R-squared:                  0.211\n",
            "Method:                 Least Squares   F-statistic:                     14.23\n",
            "Date:                Tue, 13 Apr 2021   Prob (F-statistic):           3.82e-06\n",
            "Time:                        16:32:09   Log-Likelihood:                -153.07\n",
            "No. Observations:                 100   AIC:                             312.1\n",
            "Df Residuals:                      97   BIC:                             320.0\n",
            "Df Model:                           2                                         \n",
            "Covariance Type:            nonrobust                                         \n",
            "==============================================================================\n",
            "                 coef    std err          t      P>|t|      [0.025      0.975]\n",
            "------------------------------------------------------------------------------\n",
            "const          2.0877      0.228      9.164      0.000       1.636       2.540\n",
            "x1             2.1935      0.620      3.539      0.001       0.963       3.424\n",
            "x2            -0.1108      1.105     -0.100      0.920      -2.303       2.082\n",
            "==============================================================================\n",
            "Omnibus:                        1.544   Durbin-Watson:                   1.971\n",
            "Prob(Omnibus):                  0.462   Jarque-Bera (JB):                1.335\n",
            "Skew:                           0.121   Prob(JB):                        0.513\n",
            "Kurtosis:                       2.488   Cond. No.                         12.2\n",
            "==============================================================================\n",
            "\n",
            "Warnings:\n",
            "[1] Standard Errors assume that the covariance matrix of the errors is correctly specified.\n"
          ],
          "name": "stdout"
        }
      ]
    },
    {
      "cell_type": "code",
      "metadata": {
        "colab": {
          "base_uri": "https://localhost:8080/"
        },
        "id": "y6JBDEBsE27c",
        "outputId": "80ffd22f-8dfb-421c-e80c-d2576043480c"
      },
      "source": [
        "X = sm.add_constant(x1)\n",
        "model = sm.OLS(y,X).fit()\n",
        "print(model.summary())"
      ],
      "execution_count": 98,
      "outputs": [
        {
          "output_type": "stream",
          "text": [
            "                            OLS Regression Results                            \n",
            "==============================================================================\n",
            "Dep. Variable:                      y   R-squared:                       0.227\n",
            "Model:                            OLS   Adj. R-squared:                  0.219\n",
            "Method:                 Least Squares   F-statistic:                     28.74\n",
            "Date:                Tue, 13 Apr 2021   Prob (F-statistic):           5.52e-07\n",
            "Time:                        16:33:06   Log-Likelihood:                -153.07\n",
            "No. Observations:                 100   AIC:                             310.1\n",
            "Df Residuals:                      98   BIC:                             315.4\n",
            "Df Model:                           1                                         \n",
            "Covariance Type:            nonrobust                                         \n",
            "==============================================================================\n",
            "                 coef    std err          t      P>|t|      [0.025      0.975]\n",
            "------------------------------------------------------------------------------\n",
            "const          2.0847      0.225      9.277      0.000       1.639       2.531\n",
            "x1             2.1462      0.400      5.361      0.000       1.352       2.941\n",
            "==============================================================================\n",
            "Omnibus:                        1.598   Durbin-Watson:                   1.976\n",
            "Prob(Omnibus):                  0.450   Jarque-Bera (JB):                1.363\n",
            "Skew:                           0.121   Prob(JB):                        0.506\n",
            "Kurtosis:                       2.482   Cond. No.                         4.44\n",
            "==============================================================================\n",
            "\n",
            "Warnings:\n",
            "[1] Standard Errors assume that the covariance matrix of the errors is correctly specified.\n"
          ],
          "name": "stdout"
        }
      ]
    },
    {
      "cell_type": "code",
      "metadata": {
        "colab": {
          "base_uri": "https://localhost:8080/"
        },
        "id": "1pgKQJRAFE4n",
        "outputId": "9ee662ce-874d-4a94-acfb-6d6beafdcd6a"
      },
      "source": [
        "X = sm.add_constant(x2)\n",
        "model = sm.OLS(y,X).fit()\n",
        "print(model.summary())"
      ],
      "execution_count": 99,
      "outputs": [
        {
          "output_type": "stream",
          "text": [
            "                            OLS Regression Results                            \n",
            "==============================================================================\n",
            "Dep. Variable:                      y   R-squared:                       0.127\n",
            "Model:                            OLS   Adj. R-squared:                  0.118\n",
            "Method:                 Least Squares   F-statistic:                     14.25\n",
            "Date:                Tue, 13 Apr 2021   Prob (F-statistic):           0.000274\n",
            "Time:                        16:33:27   Log-Likelihood:                -159.14\n",
            "No. Observations:                 100   AIC:                             322.3\n",
            "Df Residuals:                      98   BIC:                             327.5\n",
            "Df Model:                           1                                         \n",
            "Covariance Type:            nonrobust                                         \n",
            "==============================================================================\n",
            "                 coef    std err          t      P>|t|      [0.025      0.975]\n",
            "------------------------------------------------------------------------------\n",
            "const          2.4564      0.214     11.469      0.000       2.031       2.881\n",
            "x1             2.8629      0.758      3.776      0.000       1.358       4.368\n",
            "==============================================================================\n",
            "Omnibus:                        3.655   Durbin-Watson:                   2.077\n",
            "Prob(Omnibus):                  0.161   Jarque-Bera (JB):                2.274\n",
            "Skew:                           0.148   Prob(JB):                        0.321\n",
            "Kurtosis:                       2.323   Cond. No.                         6.67\n",
            "==============================================================================\n",
            "\n",
            "Warnings:\n",
            "[1] Standard Errors assume that the covariance matrix of the errors is correctly specified.\n"
          ],
          "name": "stdout"
        }
      ]
    },
    {
      "cell_type": "markdown",
      "metadata": {
        "id": "CCu-84qOFdVg"
      },
      "source": [
        "The values for coefficient do not match in any model, however for x1 they are close, for x2 the first  model suggest extremely different value of coefficient. \n",
        "Also for the first model NULL hypothesis cannot be rejected for x2, in all other models null hypothesis can be rejected for all variables"
      ]
    },
    {
      "cell_type": "code",
      "metadata": {
        "id": "cZf1OchGFJ4e"
      },
      "source": [
        ""
      ],
      "execution_count": null,
      "outputs": []
    }
  ]
}